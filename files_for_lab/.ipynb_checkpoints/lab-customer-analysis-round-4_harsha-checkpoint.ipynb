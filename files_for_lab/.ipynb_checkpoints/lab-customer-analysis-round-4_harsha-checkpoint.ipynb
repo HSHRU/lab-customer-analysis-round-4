{
 "cells": [
  {
   "cell_type": "markdown",
   "id": "c992ff8a",
   "metadata": {},
   "source": [
    "## Customer Analysis Round 3"
   ]
  },
  {
   "cell_type": "code",
   "execution_count": 1,
   "id": "78fbf78b",
   "metadata": {},
   "outputs": [],
   "source": [
    "#### "
   ]
  },
  {
   "cell_type": "code",
   "execution_count": 2,
   "id": "eaa2652b",
   "metadata": {},
   "outputs": [],
   "source": [
    "import pandas as pd\n",
    "import numpy as np\n",
    "import matplotlib.mlab as mlab\n",
    "import matplotlib.pyplot as plt\n",
    "import seaborn as sns\n",
    "import statistics as stats\n",
    "from array import *\n",
    "from sklearn import linear_model\n",
    "from sklearn.metrics import mean_squared_error\n",
    "from sklearn.preprocessing import MinMaxScaler # do not use the function Normalise() - it does something entirely different\n",
    "from sklearn.preprocessing import StandardScaler\n",
    "from sklearn.preprocessing import OneHotEncoder\n",
    "from sklearn.model_selection import train_test_split\n",
    "from sklearn.metrics import r2_score\n",
    "from sklearn.metrics import mean_squared_error\n",
    "from sklearn.metrics import mean_absolute_error"
   ]
  },
  {
   "cell_type": "markdown",
   "id": "779f607e",
   "metadata": {},
   "source": [
    "# Show DataFrame info."
   ]
  },
  {
   "cell_type": "code",
   "execution_count": 3,
   "id": "f939869e",
   "metadata": {},
   "outputs": [
    {
     "data": {
      "text/html": [
       "<div>\n",
       "<style scoped>\n",
       "    .dataframe tbody tr th:only-of-type {\n",
       "        vertical-align: middle;\n",
       "    }\n",
       "\n",
       "    .dataframe tbody tr th {\n",
       "        vertical-align: top;\n",
       "    }\n",
       "\n",
       "    .dataframe thead th {\n",
       "        text-align: right;\n",
       "    }\n",
       "</style>\n",
       "<table border=\"1\" class=\"dataframe\">\n",
       "  <thead>\n",
       "    <tr style=\"text-align: right;\">\n",
       "      <th></th>\n",
       "      <th>Customer</th>\n",
       "      <th>State</th>\n",
       "      <th>Customer Lifetime Value</th>\n",
       "      <th>Response</th>\n",
       "      <th>Coverage</th>\n",
       "      <th>Education</th>\n",
       "      <th>Effective To Date</th>\n",
       "      <th>EmploymentStatus</th>\n",
       "      <th>Gender</th>\n",
       "      <th>Income</th>\n",
       "      <th>...</th>\n",
       "      <th>Months Since Policy Inception</th>\n",
       "      <th>Number of Open Complaints</th>\n",
       "      <th>Number of Policies</th>\n",
       "      <th>Policy Type</th>\n",
       "      <th>Policy</th>\n",
       "      <th>Renew Offer Type</th>\n",
       "      <th>Sales Channel</th>\n",
       "      <th>Total Claim Amount</th>\n",
       "      <th>Vehicle Class</th>\n",
       "      <th>Vehicle Size</th>\n",
       "    </tr>\n",
       "  </thead>\n",
       "  <tbody>\n",
       "    <tr>\n",
       "      <th>0</th>\n",
       "      <td>BU79786</td>\n",
       "      <td>Washington</td>\n",
       "      <td>2763.519279</td>\n",
       "      <td>No</td>\n",
       "      <td>Basic</td>\n",
       "      <td>Bachelor</td>\n",
       "      <td>2/24/11</td>\n",
       "      <td>Employed</td>\n",
       "      <td>F</td>\n",
       "      <td>56274</td>\n",
       "      <td>...</td>\n",
       "      <td>5</td>\n",
       "      <td>0</td>\n",
       "      <td>1</td>\n",
       "      <td>Corporate Auto</td>\n",
       "      <td>Corporate L3</td>\n",
       "      <td>Offer1</td>\n",
       "      <td>Agent</td>\n",
       "      <td>384.811147</td>\n",
       "      <td>Two-Door Car</td>\n",
       "      <td>Medsize</td>\n",
       "    </tr>\n",
       "    <tr>\n",
       "      <th>1</th>\n",
       "      <td>QZ44356</td>\n",
       "      <td>Arizona</td>\n",
       "      <td>6979.535903</td>\n",
       "      <td>No</td>\n",
       "      <td>Extended</td>\n",
       "      <td>Bachelor</td>\n",
       "      <td>1/31/11</td>\n",
       "      <td>Unemployed</td>\n",
       "      <td>F</td>\n",
       "      <td>0</td>\n",
       "      <td>...</td>\n",
       "      <td>42</td>\n",
       "      <td>0</td>\n",
       "      <td>8</td>\n",
       "      <td>Personal Auto</td>\n",
       "      <td>Personal L3</td>\n",
       "      <td>Offer3</td>\n",
       "      <td>Agent</td>\n",
       "      <td>1131.464935</td>\n",
       "      <td>Four-Door Car</td>\n",
       "      <td>Medsize</td>\n",
       "    </tr>\n",
       "    <tr>\n",
       "      <th>2</th>\n",
       "      <td>AI49188</td>\n",
       "      <td>Nevada</td>\n",
       "      <td>12887.431650</td>\n",
       "      <td>No</td>\n",
       "      <td>Premium</td>\n",
       "      <td>Bachelor</td>\n",
       "      <td>2/19/11</td>\n",
       "      <td>Employed</td>\n",
       "      <td>F</td>\n",
       "      <td>48767</td>\n",
       "      <td>...</td>\n",
       "      <td>38</td>\n",
       "      <td>0</td>\n",
       "      <td>2</td>\n",
       "      <td>Personal Auto</td>\n",
       "      <td>Personal L3</td>\n",
       "      <td>Offer1</td>\n",
       "      <td>Agent</td>\n",
       "      <td>566.472247</td>\n",
       "      <td>Two-Door Car</td>\n",
       "      <td>Medsize</td>\n",
       "    </tr>\n",
       "    <tr>\n",
       "      <th>3</th>\n",
       "      <td>WW63253</td>\n",
       "      <td>California</td>\n",
       "      <td>7645.861827</td>\n",
       "      <td>No</td>\n",
       "      <td>Basic</td>\n",
       "      <td>Bachelor</td>\n",
       "      <td>1/20/11</td>\n",
       "      <td>Unemployed</td>\n",
       "      <td>M</td>\n",
       "      <td>0</td>\n",
       "      <td>...</td>\n",
       "      <td>65</td>\n",
       "      <td>0</td>\n",
       "      <td>7</td>\n",
       "      <td>Corporate Auto</td>\n",
       "      <td>Corporate L2</td>\n",
       "      <td>Offer1</td>\n",
       "      <td>Call Center</td>\n",
       "      <td>529.881344</td>\n",
       "      <td>SUV</td>\n",
       "      <td>Medsize</td>\n",
       "    </tr>\n",
       "    <tr>\n",
       "      <th>4</th>\n",
       "      <td>HB64268</td>\n",
       "      <td>Washington</td>\n",
       "      <td>2813.692575</td>\n",
       "      <td>No</td>\n",
       "      <td>Basic</td>\n",
       "      <td>Bachelor</td>\n",
       "      <td>2/3/11</td>\n",
       "      <td>Employed</td>\n",
       "      <td>M</td>\n",
       "      <td>43836</td>\n",
       "      <td>...</td>\n",
       "      <td>44</td>\n",
       "      <td>0</td>\n",
       "      <td>1</td>\n",
       "      <td>Personal Auto</td>\n",
       "      <td>Personal L1</td>\n",
       "      <td>Offer1</td>\n",
       "      <td>Agent</td>\n",
       "      <td>138.130879</td>\n",
       "      <td>Four-Door Car</td>\n",
       "      <td>Medsize</td>\n",
       "    </tr>\n",
       "  </tbody>\n",
       "</table>\n",
       "<p>5 rows × 24 columns</p>\n",
       "</div>"
      ],
      "text/plain": [
       "  Customer       State  Customer Lifetime Value Response  Coverage Education  \\\n",
       "0  BU79786  Washington              2763.519279       No     Basic  Bachelor   \n",
       "1  QZ44356     Arizona              6979.535903       No  Extended  Bachelor   \n",
       "2  AI49188      Nevada             12887.431650       No   Premium  Bachelor   \n",
       "3  WW63253  California              7645.861827       No     Basic  Bachelor   \n",
       "4  HB64268  Washington              2813.692575       No     Basic  Bachelor   \n",
       "\n",
       "  Effective To Date EmploymentStatus Gender  Income  ...  \\\n",
       "0           2/24/11         Employed      F   56274  ...   \n",
       "1           1/31/11       Unemployed      F       0  ...   \n",
       "2           2/19/11         Employed      F   48767  ...   \n",
       "3           1/20/11       Unemployed      M       0  ...   \n",
       "4            2/3/11         Employed      M   43836  ...   \n",
       "\n",
       "  Months Since Policy Inception Number of Open Complaints  Number of Policies  \\\n",
       "0                             5                         0                   1   \n",
       "1                            42                         0                   8   \n",
       "2                            38                         0                   2   \n",
       "3                            65                         0                   7   \n",
       "4                            44                         0                   1   \n",
       "\n",
       "      Policy Type        Policy  Renew Offer Type  Sales Channel  \\\n",
       "0  Corporate Auto  Corporate L3            Offer1          Agent   \n",
       "1   Personal Auto   Personal L3            Offer3          Agent   \n",
       "2   Personal Auto   Personal L3            Offer1          Agent   \n",
       "3  Corporate Auto  Corporate L2            Offer1    Call Center   \n",
       "4   Personal Auto   Personal L1            Offer1          Agent   \n",
       "\n",
       "  Total Claim Amount  Vehicle Class Vehicle Size  \n",
       "0         384.811147   Two-Door Car      Medsize  \n",
       "1        1131.464935  Four-Door Car      Medsize  \n",
       "2         566.472247   Two-Door Car      Medsize  \n",
       "3         529.881344            SUV      Medsize  \n",
       "4         138.130879  Four-Door Car      Medsize  \n",
       "\n",
       "[5 rows x 24 columns]"
      ]
     },
     "execution_count": 3,
     "metadata": {},
     "output_type": "execute_result"
    }
   ],
   "source": [
    "cus_anlys_r3 = pd.read_csv('./csv_files/marketing_customer_analysis.csv')\n",
    "#data = pd.to_csv('merged_clean_ver1.csv', index=False)\n",
    "\n",
    "#instead of:\n",
    "#data = pd.to_csv('merged_clean_ver1.csv', index=False)\n",
    "\n",
    "#data.to_csv('merged_clean_ver1.csv', index=False)\n",
    "\n",
    "\n",
    "#cus_anlys_r3 = cus_anlys_r3.drop(['Unnamed: 0'],axis=1)\n",
    "cus_anlys_r3.head()"
   ]
  },
  {
   "cell_type": "code",
   "execution_count": 4,
   "id": "edf0130a",
   "metadata": {},
   "outputs": [],
   "source": [
    "#fill NA\n",
    "def fillna(table, col, method):\n",
    "    if method == 'mean':\n",
    "        table[col].fillna(np.mean(table[col]), inplace=True)\n",
    "    elif method== 'med':\n",
    "        table[col].fillna(np.median(table[col]), inplace=True)\n",
    "    elif method == 'mod':\n",
    "        table[col].fillna(stats.mode(table[col]), inplace=True)    \n",
    "    else:\n",
    "        print('Method not defined')\n",
    "        \n",
    "#change Type to Datetime\n",
    "def col_to_datetime(table, col):\n",
    "    table[col] = pd.to_datetime(table[col], errors='coerce')\n",
    "    \n",
    "#Clean Table\n",
    "def clean_table(table):  \n",
    "    #table.drop(['Unnamed: 0'], axis=1, inplace=True)\n",
    "    table.columns= table.columns.str.lower().str.replace(' ', '_')\n",
    "    col_to_datetime(table, 'effective_to_date')\n",
    "    fillna(table, 'state', 'mod')\n",
    "    fillna(table, 'response', 'mod')\n",
    "    fillna(table, 'vehicle_class', 'mod')\n",
    "    fillna(table, 'vehicle_size', 'mod')\n",
    "    fillna(table, 'months_since_last_claim', 'mean')\n",
    "    fillna(table, 'number_of_open_complaints', 'mean')\n",
    "    #table['vehicle_type'].fillna('Unknown', inplace=True)\n"
   ]
  },
  {
   "cell_type": "code",
   "execution_count": 5,
   "id": "9e245387",
   "metadata": {},
   "outputs": [
    {
     "data": {
      "text/plain": [
       "customer                         0\n",
       "state                            0\n",
       "customer_lifetime_value          0\n",
       "response                         0\n",
       "coverage                         0\n",
       "education                        0\n",
       "effective_to_date                0\n",
       "employmentstatus                 0\n",
       "gender                           0\n",
       "income                           0\n",
       "location_code                    0\n",
       "marital_status                   0\n",
       "monthly_premium_auto             0\n",
       "months_since_last_claim          0\n",
       "months_since_policy_inception    0\n",
       "number_of_open_complaints        0\n",
       "number_of_policies               0\n",
       "policy_type                      0\n",
       "policy                           0\n",
       "renew_offer_type                 0\n",
       "sales_channel                    0\n",
       "total_claim_amount               0\n",
       "vehicle_class                    0\n",
       "vehicle_size                     0\n",
       "dtype: int64"
      ]
     },
     "execution_count": 5,
     "metadata": {},
     "output_type": "execute_result"
    }
   ],
   "source": [
    "cus_anlys_r3 = pd.read_csv('./csv_files/marketing_customer_analysis.csv')\n",
    "clean_table(cus_anlys_r3)\n",
    "cus_anlys_r3.isna().sum()"
   ]
  },
  {
   "cell_type": "code",
   "execution_count": 6,
   "id": "b71712c9",
   "metadata": {},
   "outputs": [
    {
     "data": {
      "text/html": [
       "<div>\n",
       "<style scoped>\n",
       "    .dataframe tbody tr th:only-of-type {\n",
       "        vertical-align: middle;\n",
       "    }\n",
       "\n",
       "    .dataframe tbody tr th {\n",
       "        vertical-align: top;\n",
       "    }\n",
       "\n",
       "    .dataframe thead th {\n",
       "        text-align: right;\n",
       "    }\n",
       "</style>\n",
       "<table border=\"1\" class=\"dataframe\">\n",
       "  <thead>\n",
       "    <tr style=\"text-align: right;\">\n",
       "      <th></th>\n",
       "      <th>customer</th>\n",
       "      <th>state</th>\n",
       "      <th>customer_lifetime_value</th>\n",
       "      <th>response</th>\n",
       "      <th>coverage</th>\n",
       "      <th>education</th>\n",
       "      <th>effective_to_date</th>\n",
       "      <th>employmentstatus</th>\n",
       "      <th>gender</th>\n",
       "      <th>income</th>\n",
       "      <th>...</th>\n",
       "      <th>months_since_policy_inception</th>\n",
       "      <th>number_of_open_complaints</th>\n",
       "      <th>number_of_policies</th>\n",
       "      <th>policy_type</th>\n",
       "      <th>policy</th>\n",
       "      <th>renew_offer_type</th>\n",
       "      <th>sales_channel</th>\n",
       "      <th>total_claim_amount</th>\n",
       "      <th>vehicle_class</th>\n",
       "      <th>vehicle_size</th>\n",
       "    </tr>\n",
       "  </thead>\n",
       "  <tbody>\n",
       "    <tr>\n",
       "      <th>0</th>\n",
       "      <td>BU79786</td>\n",
       "      <td>Washington</td>\n",
       "      <td>2763.519279</td>\n",
       "      <td>No</td>\n",
       "      <td>Basic</td>\n",
       "      <td>Bachelor</td>\n",
       "      <td>2011-02-24</td>\n",
       "      <td>Employed</td>\n",
       "      <td>F</td>\n",
       "      <td>56274</td>\n",
       "      <td>...</td>\n",
       "      <td>5</td>\n",
       "      <td>0</td>\n",
       "      <td>1</td>\n",
       "      <td>Corporate Auto</td>\n",
       "      <td>Corporate L3</td>\n",
       "      <td>Offer1</td>\n",
       "      <td>Agent</td>\n",
       "      <td>384.811147</td>\n",
       "      <td>Two-Door Car</td>\n",
       "      <td>Medsize</td>\n",
       "    </tr>\n",
       "    <tr>\n",
       "      <th>1</th>\n",
       "      <td>QZ44356</td>\n",
       "      <td>Arizona</td>\n",
       "      <td>6979.535903</td>\n",
       "      <td>No</td>\n",
       "      <td>Extended</td>\n",
       "      <td>Bachelor</td>\n",
       "      <td>2011-01-31</td>\n",
       "      <td>Unemployed</td>\n",
       "      <td>F</td>\n",
       "      <td>0</td>\n",
       "      <td>...</td>\n",
       "      <td>42</td>\n",
       "      <td>0</td>\n",
       "      <td>8</td>\n",
       "      <td>Personal Auto</td>\n",
       "      <td>Personal L3</td>\n",
       "      <td>Offer3</td>\n",
       "      <td>Agent</td>\n",
       "      <td>1131.464935</td>\n",
       "      <td>Four-Door Car</td>\n",
       "      <td>Medsize</td>\n",
       "    </tr>\n",
       "    <tr>\n",
       "      <th>2</th>\n",
       "      <td>AI49188</td>\n",
       "      <td>Nevada</td>\n",
       "      <td>12887.431650</td>\n",
       "      <td>No</td>\n",
       "      <td>Premium</td>\n",
       "      <td>Bachelor</td>\n",
       "      <td>2011-02-19</td>\n",
       "      <td>Employed</td>\n",
       "      <td>F</td>\n",
       "      <td>48767</td>\n",
       "      <td>...</td>\n",
       "      <td>38</td>\n",
       "      <td>0</td>\n",
       "      <td>2</td>\n",
       "      <td>Personal Auto</td>\n",
       "      <td>Personal L3</td>\n",
       "      <td>Offer1</td>\n",
       "      <td>Agent</td>\n",
       "      <td>566.472247</td>\n",
       "      <td>Two-Door Car</td>\n",
       "      <td>Medsize</td>\n",
       "    </tr>\n",
       "    <tr>\n",
       "      <th>3</th>\n",
       "      <td>WW63253</td>\n",
       "      <td>California</td>\n",
       "      <td>7645.861827</td>\n",
       "      <td>No</td>\n",
       "      <td>Basic</td>\n",
       "      <td>Bachelor</td>\n",
       "      <td>2011-01-20</td>\n",
       "      <td>Unemployed</td>\n",
       "      <td>M</td>\n",
       "      <td>0</td>\n",
       "      <td>...</td>\n",
       "      <td>65</td>\n",
       "      <td>0</td>\n",
       "      <td>7</td>\n",
       "      <td>Corporate Auto</td>\n",
       "      <td>Corporate L2</td>\n",
       "      <td>Offer1</td>\n",
       "      <td>Call Center</td>\n",
       "      <td>529.881344</td>\n",
       "      <td>SUV</td>\n",
       "      <td>Medsize</td>\n",
       "    </tr>\n",
       "    <tr>\n",
       "      <th>4</th>\n",
       "      <td>HB64268</td>\n",
       "      <td>Washington</td>\n",
       "      <td>2813.692575</td>\n",
       "      <td>No</td>\n",
       "      <td>Basic</td>\n",
       "      <td>Bachelor</td>\n",
       "      <td>2011-02-03</td>\n",
       "      <td>Employed</td>\n",
       "      <td>M</td>\n",
       "      <td>43836</td>\n",
       "      <td>...</td>\n",
       "      <td>44</td>\n",
       "      <td>0</td>\n",
       "      <td>1</td>\n",
       "      <td>Personal Auto</td>\n",
       "      <td>Personal L1</td>\n",
       "      <td>Offer1</td>\n",
       "      <td>Agent</td>\n",
       "      <td>138.130879</td>\n",
       "      <td>Four-Door Car</td>\n",
       "      <td>Medsize</td>\n",
       "    </tr>\n",
       "    <tr>\n",
       "      <th>...</th>\n",
       "      <td>...</td>\n",
       "      <td>...</td>\n",
       "      <td>...</td>\n",
       "      <td>...</td>\n",
       "      <td>...</td>\n",
       "      <td>...</td>\n",
       "      <td>...</td>\n",
       "      <td>...</td>\n",
       "      <td>...</td>\n",
       "      <td>...</td>\n",
       "      <td>...</td>\n",
       "      <td>...</td>\n",
       "      <td>...</td>\n",
       "      <td>...</td>\n",
       "      <td>...</td>\n",
       "      <td>...</td>\n",
       "      <td>...</td>\n",
       "      <td>...</td>\n",
       "      <td>...</td>\n",
       "      <td>...</td>\n",
       "      <td>...</td>\n",
       "    </tr>\n",
       "    <tr>\n",
       "      <th>9129</th>\n",
       "      <td>LA72316</td>\n",
       "      <td>California</td>\n",
       "      <td>23405.987980</td>\n",
       "      <td>No</td>\n",
       "      <td>Basic</td>\n",
       "      <td>Bachelor</td>\n",
       "      <td>2011-02-10</td>\n",
       "      <td>Employed</td>\n",
       "      <td>M</td>\n",
       "      <td>71941</td>\n",
       "      <td>...</td>\n",
       "      <td>89</td>\n",
       "      <td>0</td>\n",
       "      <td>2</td>\n",
       "      <td>Personal Auto</td>\n",
       "      <td>Personal L1</td>\n",
       "      <td>Offer2</td>\n",
       "      <td>Web</td>\n",
       "      <td>198.234764</td>\n",
       "      <td>Four-Door Car</td>\n",
       "      <td>Medsize</td>\n",
       "    </tr>\n",
       "    <tr>\n",
       "      <th>9130</th>\n",
       "      <td>PK87824</td>\n",
       "      <td>California</td>\n",
       "      <td>3096.511217</td>\n",
       "      <td>Yes</td>\n",
       "      <td>Extended</td>\n",
       "      <td>College</td>\n",
       "      <td>2011-02-12</td>\n",
       "      <td>Employed</td>\n",
       "      <td>F</td>\n",
       "      <td>21604</td>\n",
       "      <td>...</td>\n",
       "      <td>28</td>\n",
       "      <td>0</td>\n",
       "      <td>1</td>\n",
       "      <td>Corporate Auto</td>\n",
       "      <td>Corporate L3</td>\n",
       "      <td>Offer1</td>\n",
       "      <td>Branch</td>\n",
       "      <td>379.200000</td>\n",
       "      <td>Four-Door Car</td>\n",
       "      <td>Medsize</td>\n",
       "    </tr>\n",
       "    <tr>\n",
       "      <th>9131</th>\n",
       "      <td>TD14365</td>\n",
       "      <td>California</td>\n",
       "      <td>8163.890428</td>\n",
       "      <td>No</td>\n",
       "      <td>Extended</td>\n",
       "      <td>Bachelor</td>\n",
       "      <td>2011-02-06</td>\n",
       "      <td>Unemployed</td>\n",
       "      <td>M</td>\n",
       "      <td>0</td>\n",
       "      <td>...</td>\n",
       "      <td>37</td>\n",
       "      <td>3</td>\n",
       "      <td>2</td>\n",
       "      <td>Corporate Auto</td>\n",
       "      <td>Corporate L2</td>\n",
       "      <td>Offer1</td>\n",
       "      <td>Branch</td>\n",
       "      <td>790.784983</td>\n",
       "      <td>Four-Door Car</td>\n",
       "      <td>Medsize</td>\n",
       "    </tr>\n",
       "    <tr>\n",
       "      <th>9132</th>\n",
       "      <td>UP19263</td>\n",
       "      <td>California</td>\n",
       "      <td>7524.442436</td>\n",
       "      <td>No</td>\n",
       "      <td>Extended</td>\n",
       "      <td>College</td>\n",
       "      <td>2011-02-03</td>\n",
       "      <td>Employed</td>\n",
       "      <td>M</td>\n",
       "      <td>21941</td>\n",
       "      <td>...</td>\n",
       "      <td>3</td>\n",
       "      <td>0</td>\n",
       "      <td>3</td>\n",
       "      <td>Personal Auto</td>\n",
       "      <td>Personal L2</td>\n",
       "      <td>Offer3</td>\n",
       "      <td>Branch</td>\n",
       "      <td>691.200000</td>\n",
       "      <td>Four-Door Car</td>\n",
       "      <td>Large</td>\n",
       "    </tr>\n",
       "    <tr>\n",
       "      <th>9133</th>\n",
       "      <td>Y167826</td>\n",
       "      <td>California</td>\n",
       "      <td>2611.836866</td>\n",
       "      <td>No</td>\n",
       "      <td>Extended</td>\n",
       "      <td>College</td>\n",
       "      <td>2011-02-14</td>\n",
       "      <td>Unemployed</td>\n",
       "      <td>M</td>\n",
       "      <td>0</td>\n",
       "      <td>...</td>\n",
       "      <td>90</td>\n",
       "      <td>0</td>\n",
       "      <td>1</td>\n",
       "      <td>Corporate Auto</td>\n",
       "      <td>Corporate L3</td>\n",
       "      <td>Offer4</td>\n",
       "      <td>Call Center</td>\n",
       "      <td>369.600000</td>\n",
       "      <td>Two-Door Car</td>\n",
       "      <td>Medsize</td>\n",
       "    </tr>\n",
       "  </tbody>\n",
       "</table>\n",
       "<p>9134 rows × 24 columns</p>\n",
       "</div>"
      ],
      "text/plain": [
       "     customer       state  customer_lifetime_value response  coverage  \\\n",
       "0     BU79786  Washington              2763.519279       No     Basic   \n",
       "1     QZ44356     Arizona              6979.535903       No  Extended   \n",
       "2     AI49188      Nevada             12887.431650       No   Premium   \n",
       "3     WW63253  California              7645.861827       No     Basic   \n",
       "4     HB64268  Washington              2813.692575       No     Basic   \n",
       "...       ...         ...                      ...      ...       ...   \n",
       "9129  LA72316  California             23405.987980       No     Basic   \n",
       "9130  PK87824  California              3096.511217      Yes  Extended   \n",
       "9131  TD14365  California              8163.890428       No  Extended   \n",
       "9132  UP19263  California              7524.442436       No  Extended   \n",
       "9133  Y167826  California              2611.836866       No  Extended   \n",
       "\n",
       "     education effective_to_date employmentstatus gender  income  ...  \\\n",
       "0     Bachelor        2011-02-24         Employed      F   56274  ...   \n",
       "1     Bachelor        2011-01-31       Unemployed      F       0  ...   \n",
       "2     Bachelor        2011-02-19         Employed      F   48767  ...   \n",
       "3     Bachelor        2011-01-20       Unemployed      M       0  ...   \n",
       "4     Bachelor        2011-02-03         Employed      M   43836  ...   \n",
       "...        ...               ...              ...    ...     ...  ...   \n",
       "9129  Bachelor        2011-02-10         Employed      M   71941  ...   \n",
       "9130   College        2011-02-12         Employed      F   21604  ...   \n",
       "9131  Bachelor        2011-02-06       Unemployed      M       0  ...   \n",
       "9132   College        2011-02-03         Employed      M   21941  ...   \n",
       "9133   College        2011-02-14       Unemployed      M       0  ...   \n",
       "\n",
       "     months_since_policy_inception number_of_open_complaints  \\\n",
       "0                                5                         0   \n",
       "1                               42                         0   \n",
       "2                               38                         0   \n",
       "3                               65                         0   \n",
       "4                               44                         0   \n",
       "...                            ...                       ...   \n",
       "9129                            89                         0   \n",
       "9130                            28                         0   \n",
       "9131                            37                         3   \n",
       "9132                             3                         0   \n",
       "9133                            90                         0   \n",
       "\n",
       "      number_of_policies     policy_type        policy  renew_offer_type  \\\n",
       "0                      1  Corporate Auto  Corporate L3            Offer1   \n",
       "1                      8   Personal Auto   Personal L3            Offer3   \n",
       "2                      2   Personal Auto   Personal L3            Offer1   \n",
       "3                      7  Corporate Auto  Corporate L2            Offer1   \n",
       "4                      1   Personal Auto   Personal L1            Offer1   \n",
       "...                  ...             ...           ...               ...   \n",
       "9129                   2   Personal Auto   Personal L1            Offer2   \n",
       "9130                   1  Corporate Auto  Corporate L3            Offer1   \n",
       "9131                   2  Corporate Auto  Corporate L2            Offer1   \n",
       "9132                   3   Personal Auto   Personal L2            Offer3   \n",
       "9133                   1  Corporate Auto  Corporate L3            Offer4   \n",
       "\n",
       "      sales_channel total_claim_amount  vehicle_class vehicle_size  \n",
       "0             Agent         384.811147   Two-Door Car      Medsize  \n",
       "1             Agent        1131.464935  Four-Door Car      Medsize  \n",
       "2             Agent         566.472247   Two-Door Car      Medsize  \n",
       "3       Call Center         529.881344            SUV      Medsize  \n",
       "4             Agent         138.130879  Four-Door Car      Medsize  \n",
       "...             ...                ...            ...          ...  \n",
       "9129            Web         198.234764  Four-Door Car      Medsize  \n",
       "9130         Branch         379.200000  Four-Door Car      Medsize  \n",
       "9131         Branch         790.784983  Four-Door Car      Medsize  \n",
       "9132         Branch         691.200000  Four-Door Car        Large  \n",
       "9133    Call Center         369.600000   Two-Door Car      Medsize  \n",
       "\n",
       "[9134 rows x 24 columns]"
      ]
     },
     "execution_count": 6,
     "metadata": {},
     "output_type": "execute_result"
    }
   ],
   "source": [
    "cus_anlys_r3"
   ]
  },
  {
   "cell_type": "code",
   "execution_count": 7,
   "id": "4b7789eb",
   "metadata": {},
   "outputs": [
    {
     "data": {
      "text/plain": [
       "(9134, 24)"
      ]
     },
     "execution_count": 7,
     "metadata": {},
     "output_type": "execute_result"
    }
   ],
   "source": [
    "cus_anlys_r3.shape"
   ]
  },
  {
   "cell_type": "markdown",
   "id": "ec85ce34",
   "metadata": {},
   "source": [
    "### Describe DataFrame."
   ]
  },
  {
   "cell_type": "code",
   "execution_count": null,
   "id": "4ee1cdc5",
   "metadata": {},
   "outputs": [],
   "source": []
  },
  {
   "cell_type": "code",
   "execution_count": 8,
   "id": "3c2f0932",
   "metadata": {
    "scrolled": true
   },
   "outputs": [
    {
     "name": "stdout",
     "output_type": "stream",
     "text": [
      "       customer_lifetime_value        income  monthly_premium_auto  \\\n",
      "count              9134.000000   9134.000000           9134.000000   \n",
      "mean               8004.940475  37657.380009             93.219291   \n",
      "std                6870.967608  30379.904734             34.407967   \n",
      "min                1898.007675      0.000000             61.000000   \n",
      "25%                3994.251794      0.000000             68.000000   \n",
      "50%                5780.182197  33889.500000             83.000000   \n",
      "75%                8962.167041  62320.000000            109.000000   \n",
      "max               83325.381190  99981.000000            298.000000   \n",
      "\n",
      "       months_since_last_claim  months_since_policy_inception  \\\n",
      "count              9134.000000                    9134.000000   \n",
      "mean                 15.097000                      48.064594   \n",
      "std                  10.073257                      27.905991   \n",
      "min                   0.000000                       0.000000   \n",
      "25%                   6.000000                      24.000000   \n",
      "50%                  14.000000                      48.000000   \n",
      "75%                  23.000000                      71.000000   \n",
      "max                  35.000000                      99.000000   \n",
      "\n",
      "       number_of_open_complaints  number_of_policies  total_claim_amount  \n",
      "count                9134.000000         9134.000000         9134.000000  \n",
      "mean                    0.384388            2.966170          434.088794  \n",
      "std                     0.910384            2.390182          290.500092  \n",
      "min                     0.000000            1.000000            0.099007  \n",
      "25%                     0.000000            1.000000          272.258244  \n",
      "50%                     0.000000            2.000000          383.945434  \n",
      "75%                     0.000000            4.000000          547.514839  \n",
      "max                     5.000000            9.000000         2893.239678  \n"
     ]
    }
   ],
   "source": [
    "\n",
    "df = pd.DataFrame(cus_anlys_r3)\n",
    "\n",
    "# remove spaces in columns name\n",
    "df.columns = df.columns.str.replace(' ','_')\n",
    "\n",
    "df.columns\n",
    "print(df.describe())"
   ]
  },
  {
   "cell_type": "code",
   "execution_count": 9,
   "id": "e3ae04f4",
   "metadata": {
    "scrolled": false
   },
   "outputs": [
    {
     "name": "stderr",
     "output_type": "stream",
     "text": [
      "C:\\Users\\satur\\AppData\\Local\\Temp\\ipykernel_7928\\377021028.py:1: FutureWarning: Treating datetime data as categorical rather than numeric in `.describe` is deprecated and will be removed in a future version of pandas. Specify `datetime_is_numeric=True` to silence this warning and adopt the future behavior now.\n",
      "  df.describe(include='all').T\n"
     ]
    },
    {
     "data": {
      "text/html": [
       "<div>\n",
       "<style scoped>\n",
       "    .dataframe tbody tr th:only-of-type {\n",
       "        vertical-align: middle;\n",
       "    }\n",
       "\n",
       "    .dataframe tbody tr th {\n",
       "        vertical-align: top;\n",
       "    }\n",
       "\n",
       "    .dataframe thead th {\n",
       "        text-align: right;\n",
       "    }\n",
       "</style>\n",
       "<table border=\"1\" class=\"dataframe\">\n",
       "  <thead>\n",
       "    <tr style=\"text-align: right;\">\n",
       "      <th></th>\n",
       "      <th>count</th>\n",
       "      <th>unique</th>\n",
       "      <th>top</th>\n",
       "      <th>freq</th>\n",
       "      <th>first</th>\n",
       "      <th>last</th>\n",
       "      <th>mean</th>\n",
       "      <th>std</th>\n",
       "      <th>min</th>\n",
       "      <th>25%</th>\n",
       "      <th>50%</th>\n",
       "      <th>75%</th>\n",
       "      <th>max</th>\n",
       "    </tr>\n",
       "  </thead>\n",
       "  <tbody>\n",
       "    <tr>\n",
       "      <th>customer</th>\n",
       "      <td>9134</td>\n",
       "      <td>9134</td>\n",
       "      <td>BU79786</td>\n",
       "      <td>1</td>\n",
       "      <td>NaT</td>\n",
       "      <td>NaT</td>\n",
       "      <td>NaN</td>\n",
       "      <td>NaN</td>\n",
       "      <td>NaN</td>\n",
       "      <td>NaN</td>\n",
       "      <td>NaN</td>\n",
       "      <td>NaN</td>\n",
       "      <td>NaN</td>\n",
       "    </tr>\n",
       "    <tr>\n",
       "      <th>state</th>\n",
       "      <td>9134</td>\n",
       "      <td>5</td>\n",
       "      <td>California</td>\n",
       "      <td>3150</td>\n",
       "      <td>NaT</td>\n",
       "      <td>NaT</td>\n",
       "      <td>NaN</td>\n",
       "      <td>NaN</td>\n",
       "      <td>NaN</td>\n",
       "      <td>NaN</td>\n",
       "      <td>NaN</td>\n",
       "      <td>NaN</td>\n",
       "      <td>NaN</td>\n",
       "    </tr>\n",
       "    <tr>\n",
       "      <th>customer_lifetime_value</th>\n",
       "      <td>9134.0</td>\n",
       "      <td>NaN</td>\n",
       "      <td>NaN</td>\n",
       "      <td>NaN</td>\n",
       "      <td>NaT</td>\n",
       "      <td>NaT</td>\n",
       "      <td>8004.940475</td>\n",
       "      <td>6870.967608</td>\n",
       "      <td>1898.007675</td>\n",
       "      <td>3994.251794</td>\n",
       "      <td>5780.182197</td>\n",
       "      <td>8962.167041</td>\n",
       "      <td>83325.38119</td>\n",
       "    </tr>\n",
       "    <tr>\n",
       "      <th>response</th>\n",
       "      <td>9134</td>\n",
       "      <td>2</td>\n",
       "      <td>No</td>\n",
       "      <td>7826</td>\n",
       "      <td>NaT</td>\n",
       "      <td>NaT</td>\n",
       "      <td>NaN</td>\n",
       "      <td>NaN</td>\n",
       "      <td>NaN</td>\n",
       "      <td>NaN</td>\n",
       "      <td>NaN</td>\n",
       "      <td>NaN</td>\n",
       "      <td>NaN</td>\n",
       "    </tr>\n",
       "    <tr>\n",
       "      <th>coverage</th>\n",
       "      <td>9134</td>\n",
       "      <td>3</td>\n",
       "      <td>Basic</td>\n",
       "      <td>5568</td>\n",
       "      <td>NaT</td>\n",
       "      <td>NaT</td>\n",
       "      <td>NaN</td>\n",
       "      <td>NaN</td>\n",
       "      <td>NaN</td>\n",
       "      <td>NaN</td>\n",
       "      <td>NaN</td>\n",
       "      <td>NaN</td>\n",
       "      <td>NaN</td>\n",
       "    </tr>\n",
       "    <tr>\n",
       "      <th>education</th>\n",
       "      <td>9134</td>\n",
       "      <td>5</td>\n",
       "      <td>Bachelor</td>\n",
       "      <td>2748</td>\n",
       "      <td>NaT</td>\n",
       "      <td>NaT</td>\n",
       "      <td>NaN</td>\n",
       "      <td>NaN</td>\n",
       "      <td>NaN</td>\n",
       "      <td>NaN</td>\n",
       "      <td>NaN</td>\n",
       "      <td>NaN</td>\n",
       "      <td>NaN</td>\n",
       "    </tr>\n",
       "    <tr>\n",
       "      <th>effective_to_date</th>\n",
       "      <td>9134</td>\n",
       "      <td>59</td>\n",
       "      <td>2011-01-10 00:00:00</td>\n",
       "      <td>195</td>\n",
       "      <td>2011-01-01</td>\n",
       "      <td>2011-02-28</td>\n",
       "      <td>NaN</td>\n",
       "      <td>NaN</td>\n",
       "      <td>NaN</td>\n",
       "      <td>NaN</td>\n",
       "      <td>NaN</td>\n",
       "      <td>NaN</td>\n",
       "      <td>NaN</td>\n",
       "    </tr>\n",
       "    <tr>\n",
       "      <th>employmentstatus</th>\n",
       "      <td>9134</td>\n",
       "      <td>5</td>\n",
       "      <td>Employed</td>\n",
       "      <td>5698</td>\n",
       "      <td>NaT</td>\n",
       "      <td>NaT</td>\n",
       "      <td>NaN</td>\n",
       "      <td>NaN</td>\n",
       "      <td>NaN</td>\n",
       "      <td>NaN</td>\n",
       "      <td>NaN</td>\n",
       "      <td>NaN</td>\n",
       "      <td>NaN</td>\n",
       "    </tr>\n",
       "    <tr>\n",
       "      <th>gender</th>\n",
       "      <td>9134</td>\n",
       "      <td>2</td>\n",
       "      <td>F</td>\n",
       "      <td>4658</td>\n",
       "      <td>NaT</td>\n",
       "      <td>NaT</td>\n",
       "      <td>NaN</td>\n",
       "      <td>NaN</td>\n",
       "      <td>NaN</td>\n",
       "      <td>NaN</td>\n",
       "      <td>NaN</td>\n",
       "      <td>NaN</td>\n",
       "      <td>NaN</td>\n",
       "    </tr>\n",
       "    <tr>\n",
       "      <th>income</th>\n",
       "      <td>9134.0</td>\n",
       "      <td>NaN</td>\n",
       "      <td>NaN</td>\n",
       "      <td>NaN</td>\n",
       "      <td>NaT</td>\n",
       "      <td>NaT</td>\n",
       "      <td>37657.380009</td>\n",
       "      <td>30379.904734</td>\n",
       "      <td>0.0</td>\n",
       "      <td>0.0</td>\n",
       "      <td>33889.5</td>\n",
       "      <td>62320.0</td>\n",
       "      <td>99981.0</td>\n",
       "    </tr>\n",
       "    <tr>\n",
       "      <th>location_code</th>\n",
       "      <td>9134</td>\n",
       "      <td>3</td>\n",
       "      <td>Suburban</td>\n",
       "      <td>5779</td>\n",
       "      <td>NaT</td>\n",
       "      <td>NaT</td>\n",
       "      <td>NaN</td>\n",
       "      <td>NaN</td>\n",
       "      <td>NaN</td>\n",
       "      <td>NaN</td>\n",
       "      <td>NaN</td>\n",
       "      <td>NaN</td>\n",
       "      <td>NaN</td>\n",
       "    </tr>\n",
       "    <tr>\n",
       "      <th>marital_status</th>\n",
       "      <td>9134</td>\n",
       "      <td>3</td>\n",
       "      <td>Married</td>\n",
       "      <td>5298</td>\n",
       "      <td>NaT</td>\n",
       "      <td>NaT</td>\n",
       "      <td>NaN</td>\n",
       "      <td>NaN</td>\n",
       "      <td>NaN</td>\n",
       "      <td>NaN</td>\n",
       "      <td>NaN</td>\n",
       "      <td>NaN</td>\n",
       "      <td>NaN</td>\n",
       "    </tr>\n",
       "    <tr>\n",
       "      <th>monthly_premium_auto</th>\n",
       "      <td>9134.0</td>\n",
       "      <td>NaN</td>\n",
       "      <td>NaN</td>\n",
       "      <td>NaN</td>\n",
       "      <td>NaT</td>\n",
       "      <td>NaT</td>\n",
       "      <td>93.219291</td>\n",
       "      <td>34.407967</td>\n",
       "      <td>61.0</td>\n",
       "      <td>68.0</td>\n",
       "      <td>83.0</td>\n",
       "      <td>109.0</td>\n",
       "      <td>298.0</td>\n",
       "    </tr>\n",
       "    <tr>\n",
       "      <th>months_since_last_claim</th>\n",
       "      <td>9134.0</td>\n",
       "      <td>NaN</td>\n",
       "      <td>NaN</td>\n",
       "      <td>NaN</td>\n",
       "      <td>NaT</td>\n",
       "      <td>NaT</td>\n",
       "      <td>15.097</td>\n",
       "      <td>10.073257</td>\n",
       "      <td>0.0</td>\n",
       "      <td>6.0</td>\n",
       "      <td>14.0</td>\n",
       "      <td>23.0</td>\n",
       "      <td>35.0</td>\n",
       "    </tr>\n",
       "    <tr>\n",
       "      <th>months_since_policy_inception</th>\n",
       "      <td>9134.0</td>\n",
       "      <td>NaN</td>\n",
       "      <td>NaN</td>\n",
       "      <td>NaN</td>\n",
       "      <td>NaT</td>\n",
       "      <td>NaT</td>\n",
       "      <td>48.064594</td>\n",
       "      <td>27.905991</td>\n",
       "      <td>0.0</td>\n",
       "      <td>24.0</td>\n",
       "      <td>48.0</td>\n",
       "      <td>71.0</td>\n",
       "      <td>99.0</td>\n",
       "    </tr>\n",
       "    <tr>\n",
       "      <th>number_of_open_complaints</th>\n",
       "      <td>9134.0</td>\n",
       "      <td>NaN</td>\n",
       "      <td>NaN</td>\n",
       "      <td>NaN</td>\n",
       "      <td>NaT</td>\n",
       "      <td>NaT</td>\n",
       "      <td>0.384388</td>\n",
       "      <td>0.910384</td>\n",
       "      <td>0.0</td>\n",
       "      <td>0.0</td>\n",
       "      <td>0.0</td>\n",
       "      <td>0.0</td>\n",
       "      <td>5.0</td>\n",
       "    </tr>\n",
       "    <tr>\n",
       "      <th>number_of_policies</th>\n",
       "      <td>9134.0</td>\n",
       "      <td>NaN</td>\n",
       "      <td>NaN</td>\n",
       "      <td>NaN</td>\n",
       "      <td>NaT</td>\n",
       "      <td>NaT</td>\n",
       "      <td>2.96617</td>\n",
       "      <td>2.390182</td>\n",
       "      <td>1.0</td>\n",
       "      <td>1.0</td>\n",
       "      <td>2.0</td>\n",
       "      <td>4.0</td>\n",
       "      <td>9.0</td>\n",
       "    </tr>\n",
       "    <tr>\n",
       "      <th>policy_type</th>\n",
       "      <td>9134</td>\n",
       "      <td>3</td>\n",
       "      <td>Personal Auto</td>\n",
       "      <td>6788</td>\n",
       "      <td>NaT</td>\n",
       "      <td>NaT</td>\n",
       "      <td>NaN</td>\n",
       "      <td>NaN</td>\n",
       "      <td>NaN</td>\n",
       "      <td>NaN</td>\n",
       "      <td>NaN</td>\n",
       "      <td>NaN</td>\n",
       "      <td>NaN</td>\n",
       "    </tr>\n",
       "    <tr>\n",
       "      <th>policy</th>\n",
       "      <td>9134</td>\n",
       "      <td>9</td>\n",
       "      <td>Personal L3</td>\n",
       "      <td>3426</td>\n",
       "      <td>NaT</td>\n",
       "      <td>NaT</td>\n",
       "      <td>NaN</td>\n",
       "      <td>NaN</td>\n",
       "      <td>NaN</td>\n",
       "      <td>NaN</td>\n",
       "      <td>NaN</td>\n",
       "      <td>NaN</td>\n",
       "      <td>NaN</td>\n",
       "    </tr>\n",
       "    <tr>\n",
       "      <th>renew_offer_type</th>\n",
       "      <td>9134</td>\n",
       "      <td>4</td>\n",
       "      <td>Offer1</td>\n",
       "      <td>3752</td>\n",
       "      <td>NaT</td>\n",
       "      <td>NaT</td>\n",
       "      <td>NaN</td>\n",
       "      <td>NaN</td>\n",
       "      <td>NaN</td>\n",
       "      <td>NaN</td>\n",
       "      <td>NaN</td>\n",
       "      <td>NaN</td>\n",
       "      <td>NaN</td>\n",
       "    </tr>\n",
       "    <tr>\n",
       "      <th>sales_channel</th>\n",
       "      <td>9134</td>\n",
       "      <td>4</td>\n",
       "      <td>Agent</td>\n",
       "      <td>3477</td>\n",
       "      <td>NaT</td>\n",
       "      <td>NaT</td>\n",
       "      <td>NaN</td>\n",
       "      <td>NaN</td>\n",
       "      <td>NaN</td>\n",
       "      <td>NaN</td>\n",
       "      <td>NaN</td>\n",
       "      <td>NaN</td>\n",
       "      <td>NaN</td>\n",
       "    </tr>\n",
       "    <tr>\n",
       "      <th>total_claim_amount</th>\n",
       "      <td>9134.0</td>\n",
       "      <td>NaN</td>\n",
       "      <td>NaN</td>\n",
       "      <td>NaN</td>\n",
       "      <td>NaT</td>\n",
       "      <td>NaT</td>\n",
       "      <td>434.088794</td>\n",
       "      <td>290.500092</td>\n",
       "      <td>0.099007</td>\n",
       "      <td>272.258244</td>\n",
       "      <td>383.945434</td>\n",
       "      <td>547.514839</td>\n",
       "      <td>2893.239678</td>\n",
       "    </tr>\n",
       "    <tr>\n",
       "      <th>vehicle_class</th>\n",
       "      <td>9134</td>\n",
       "      <td>6</td>\n",
       "      <td>Four-Door Car</td>\n",
       "      <td>4621</td>\n",
       "      <td>NaT</td>\n",
       "      <td>NaT</td>\n",
       "      <td>NaN</td>\n",
       "      <td>NaN</td>\n",
       "      <td>NaN</td>\n",
       "      <td>NaN</td>\n",
       "      <td>NaN</td>\n",
       "      <td>NaN</td>\n",
       "      <td>NaN</td>\n",
       "    </tr>\n",
       "    <tr>\n",
       "      <th>vehicle_size</th>\n",
       "      <td>9134</td>\n",
       "      <td>3</td>\n",
       "      <td>Medsize</td>\n",
       "      <td>6424</td>\n",
       "      <td>NaT</td>\n",
       "      <td>NaT</td>\n",
       "      <td>NaN</td>\n",
       "      <td>NaN</td>\n",
       "      <td>NaN</td>\n",
       "      <td>NaN</td>\n",
       "      <td>NaN</td>\n",
       "      <td>NaN</td>\n",
       "      <td>NaN</td>\n",
       "    </tr>\n",
       "  </tbody>\n",
       "</table>\n",
       "</div>"
      ],
      "text/plain": [
       "                                count unique                  top  freq  \\\n",
       "customer                         9134   9134              BU79786     1   \n",
       "state                            9134      5           California  3150   \n",
       "customer_lifetime_value        9134.0    NaN                  NaN   NaN   \n",
       "response                         9134      2                   No  7826   \n",
       "coverage                         9134      3                Basic  5568   \n",
       "education                        9134      5             Bachelor  2748   \n",
       "effective_to_date                9134     59  2011-01-10 00:00:00   195   \n",
       "employmentstatus                 9134      5             Employed  5698   \n",
       "gender                           9134      2                    F  4658   \n",
       "income                         9134.0    NaN                  NaN   NaN   \n",
       "location_code                    9134      3             Suburban  5779   \n",
       "marital_status                   9134      3              Married  5298   \n",
       "monthly_premium_auto           9134.0    NaN                  NaN   NaN   \n",
       "months_since_last_claim        9134.0    NaN                  NaN   NaN   \n",
       "months_since_policy_inception  9134.0    NaN                  NaN   NaN   \n",
       "number_of_open_complaints      9134.0    NaN                  NaN   NaN   \n",
       "number_of_policies             9134.0    NaN                  NaN   NaN   \n",
       "policy_type                      9134      3        Personal Auto  6788   \n",
       "policy                           9134      9          Personal L3  3426   \n",
       "renew_offer_type                 9134      4               Offer1  3752   \n",
       "sales_channel                    9134      4                Agent  3477   \n",
       "total_claim_amount             9134.0    NaN                  NaN   NaN   \n",
       "vehicle_class                    9134      6        Four-Door Car  4621   \n",
       "vehicle_size                     9134      3              Medsize  6424   \n",
       "\n",
       "                                   first       last          mean  \\\n",
       "customer                             NaT        NaT           NaN   \n",
       "state                                NaT        NaT           NaN   \n",
       "customer_lifetime_value              NaT        NaT   8004.940475   \n",
       "response                             NaT        NaT           NaN   \n",
       "coverage                             NaT        NaT           NaN   \n",
       "education                            NaT        NaT           NaN   \n",
       "effective_to_date             2011-01-01 2011-02-28           NaN   \n",
       "employmentstatus                     NaT        NaT           NaN   \n",
       "gender                               NaT        NaT           NaN   \n",
       "income                               NaT        NaT  37657.380009   \n",
       "location_code                        NaT        NaT           NaN   \n",
       "marital_status                       NaT        NaT           NaN   \n",
       "monthly_premium_auto                 NaT        NaT     93.219291   \n",
       "months_since_last_claim              NaT        NaT        15.097   \n",
       "months_since_policy_inception        NaT        NaT     48.064594   \n",
       "number_of_open_complaints            NaT        NaT      0.384388   \n",
       "number_of_policies                   NaT        NaT       2.96617   \n",
       "policy_type                          NaT        NaT           NaN   \n",
       "policy                               NaT        NaT           NaN   \n",
       "renew_offer_type                     NaT        NaT           NaN   \n",
       "sales_channel                        NaT        NaT           NaN   \n",
       "total_claim_amount                   NaT        NaT    434.088794   \n",
       "vehicle_class                        NaT        NaT           NaN   \n",
       "vehicle_size                         NaT        NaT           NaN   \n",
       "\n",
       "                                        std          min          25%  \\\n",
       "customer                                NaN          NaN          NaN   \n",
       "state                                   NaN          NaN          NaN   \n",
       "customer_lifetime_value         6870.967608  1898.007675  3994.251794   \n",
       "response                                NaN          NaN          NaN   \n",
       "coverage                                NaN          NaN          NaN   \n",
       "education                               NaN          NaN          NaN   \n",
       "effective_to_date                       NaN          NaN          NaN   \n",
       "employmentstatus                        NaN          NaN          NaN   \n",
       "gender                                  NaN          NaN          NaN   \n",
       "income                         30379.904734          0.0          0.0   \n",
       "location_code                           NaN          NaN          NaN   \n",
       "marital_status                          NaN          NaN          NaN   \n",
       "monthly_premium_auto              34.407967         61.0         68.0   \n",
       "months_since_last_claim           10.073257          0.0          6.0   \n",
       "months_since_policy_inception     27.905991          0.0         24.0   \n",
       "number_of_open_complaints          0.910384          0.0          0.0   \n",
       "number_of_policies                 2.390182          1.0          1.0   \n",
       "policy_type                             NaN          NaN          NaN   \n",
       "policy                                  NaN          NaN          NaN   \n",
       "renew_offer_type                        NaN          NaN          NaN   \n",
       "sales_channel                           NaN          NaN          NaN   \n",
       "total_claim_amount               290.500092     0.099007   272.258244   \n",
       "vehicle_class                           NaN          NaN          NaN   \n",
       "vehicle_size                            NaN          NaN          NaN   \n",
       "\n",
       "                                       50%          75%          max  \n",
       "customer                               NaN          NaN          NaN  \n",
       "state                                  NaN          NaN          NaN  \n",
       "customer_lifetime_value        5780.182197  8962.167041  83325.38119  \n",
       "response                               NaN          NaN          NaN  \n",
       "coverage                               NaN          NaN          NaN  \n",
       "education                              NaN          NaN          NaN  \n",
       "effective_to_date                      NaN          NaN          NaN  \n",
       "employmentstatus                       NaN          NaN          NaN  \n",
       "gender                                 NaN          NaN          NaN  \n",
       "income                             33889.5      62320.0      99981.0  \n",
       "location_code                          NaN          NaN          NaN  \n",
       "marital_status                         NaN          NaN          NaN  \n",
       "monthly_premium_auto                  83.0        109.0        298.0  \n",
       "months_since_last_claim               14.0         23.0         35.0  \n",
       "months_since_policy_inception         48.0         71.0         99.0  \n",
       "number_of_open_complaints              0.0          0.0          5.0  \n",
       "number_of_policies                     2.0          4.0          9.0  \n",
       "policy_type                            NaN          NaN          NaN  \n",
       "policy                                 NaN          NaN          NaN  \n",
       "renew_offer_type                       NaN          NaN          NaN  \n",
       "sales_channel                          NaN          NaN          NaN  \n",
       "total_claim_amount              383.945434   547.514839  2893.239678  \n",
       "vehicle_class                          NaN          NaN          NaN  \n",
       "vehicle_size                           NaN          NaN          NaN  "
      ]
     },
     "execution_count": 9,
     "metadata": {},
     "output_type": "execute_result"
    }
   ],
   "source": [
    "df.describe(include='all').T"
   ]
  },
  {
   "cell_type": "code",
   "execution_count": 10,
   "id": "1bce93ed",
   "metadata": {},
   "outputs": [
    {
     "data": {
      "text/html": [
       "<div>\n",
       "<style scoped>\n",
       "    .dataframe tbody tr th:only-of-type {\n",
       "        vertical-align: middle;\n",
       "    }\n",
       "\n",
       "    .dataframe tbody tr th {\n",
       "        vertical-align: top;\n",
       "    }\n",
       "\n",
       "    .dataframe thead th {\n",
       "        text-align: right;\n",
       "    }\n",
       "</style>\n",
       "<table border=\"1\" class=\"dataframe\">\n",
       "  <thead>\n",
       "    <tr style=\"text-align: right;\">\n",
       "      <th></th>\n",
       "      <th>count</th>\n",
       "      <th>mean</th>\n",
       "      <th>std</th>\n",
       "      <th>min</th>\n",
       "      <th>25%</th>\n",
       "      <th>50%</th>\n",
       "      <th>75%</th>\n",
       "      <th>max</th>\n",
       "      <th>iqr</th>\n",
       "      <th>range</th>\n",
       "    </tr>\n",
       "  </thead>\n",
       "  <tbody>\n",
       "    <tr>\n",
       "      <th>customer_lifetime_value</th>\n",
       "      <td>9134.0</td>\n",
       "      <td>8004.94</td>\n",
       "      <td>6870.97</td>\n",
       "      <td>1898.01</td>\n",
       "      <td>3994.25</td>\n",
       "      <td>5780.18</td>\n",
       "      <td>8962.17</td>\n",
       "      <td>83325.38</td>\n",
       "      <td>4967.92</td>\n",
       "      <td>81427.37</td>\n",
       "    </tr>\n",
       "    <tr>\n",
       "      <th>income</th>\n",
       "      <td>9134.0</td>\n",
       "      <td>37657.38</td>\n",
       "      <td>30379.90</td>\n",
       "      <td>0.00</td>\n",
       "      <td>0.00</td>\n",
       "      <td>33889.50</td>\n",
       "      <td>62320.00</td>\n",
       "      <td>99981.00</td>\n",
       "      <td>62320.00</td>\n",
       "      <td>99981.00</td>\n",
       "    </tr>\n",
       "    <tr>\n",
       "      <th>monthly_premium_auto</th>\n",
       "      <td>9134.0</td>\n",
       "      <td>93.22</td>\n",
       "      <td>34.41</td>\n",
       "      <td>61.00</td>\n",
       "      <td>68.00</td>\n",
       "      <td>83.00</td>\n",
       "      <td>109.00</td>\n",
       "      <td>298.00</td>\n",
       "      <td>41.00</td>\n",
       "      <td>237.00</td>\n",
       "    </tr>\n",
       "    <tr>\n",
       "      <th>months_since_last_claim</th>\n",
       "      <td>9134.0</td>\n",
       "      <td>15.10</td>\n",
       "      <td>10.07</td>\n",
       "      <td>0.00</td>\n",
       "      <td>6.00</td>\n",
       "      <td>14.00</td>\n",
       "      <td>23.00</td>\n",
       "      <td>35.00</td>\n",
       "      <td>17.00</td>\n",
       "      <td>35.00</td>\n",
       "    </tr>\n",
       "    <tr>\n",
       "      <th>months_since_policy_inception</th>\n",
       "      <td>9134.0</td>\n",
       "      <td>48.06</td>\n",
       "      <td>27.91</td>\n",
       "      <td>0.00</td>\n",
       "      <td>24.00</td>\n",
       "      <td>48.00</td>\n",
       "      <td>71.00</td>\n",
       "      <td>99.00</td>\n",
       "      <td>47.00</td>\n",
       "      <td>99.00</td>\n",
       "    </tr>\n",
       "    <tr>\n",
       "      <th>number_of_open_complaints</th>\n",
       "      <td>9134.0</td>\n",
       "      <td>0.38</td>\n",
       "      <td>0.91</td>\n",
       "      <td>0.00</td>\n",
       "      <td>0.00</td>\n",
       "      <td>0.00</td>\n",
       "      <td>0.00</td>\n",
       "      <td>5.00</td>\n",
       "      <td>0.00</td>\n",
       "      <td>5.00</td>\n",
       "    </tr>\n",
       "    <tr>\n",
       "      <th>number_of_policies</th>\n",
       "      <td>9134.0</td>\n",
       "      <td>2.97</td>\n",
       "      <td>2.39</td>\n",
       "      <td>1.00</td>\n",
       "      <td>1.00</td>\n",
       "      <td>2.00</td>\n",
       "      <td>4.00</td>\n",
       "      <td>9.00</td>\n",
       "      <td>3.00</td>\n",
       "      <td>8.00</td>\n",
       "    </tr>\n",
       "    <tr>\n",
       "      <th>total_claim_amount</th>\n",
       "      <td>9134.0</td>\n",
       "      <td>434.09</td>\n",
       "      <td>290.50</td>\n",
       "      <td>0.10</td>\n",
       "      <td>272.26</td>\n",
       "      <td>383.95</td>\n",
       "      <td>547.51</td>\n",
       "      <td>2893.24</td>\n",
       "      <td>275.26</td>\n",
       "      <td>2893.14</td>\n",
       "    </tr>\n",
       "  </tbody>\n",
       "</table>\n",
       "</div>"
      ],
      "text/plain": [
       "                                count      mean       std      min      25%  \\\n",
       "customer_lifetime_value        9134.0   8004.94   6870.97  1898.01  3994.25   \n",
       "income                         9134.0  37657.38  30379.90     0.00     0.00   \n",
       "monthly_premium_auto           9134.0     93.22     34.41    61.00    68.00   \n",
       "months_since_last_claim        9134.0     15.10     10.07     0.00     6.00   \n",
       "months_since_policy_inception  9134.0     48.06     27.91     0.00    24.00   \n",
       "number_of_open_complaints      9134.0      0.38      0.91     0.00     0.00   \n",
       "number_of_policies             9134.0      2.97      2.39     1.00     1.00   \n",
       "total_claim_amount             9134.0    434.09    290.50     0.10   272.26   \n",
       "\n",
       "                                    50%       75%       max       iqr  \\\n",
       "customer_lifetime_value         5780.18   8962.17  83325.38   4967.92   \n",
       "income                         33889.50  62320.00  99981.00  62320.00   \n",
       "monthly_premium_auto              83.00    109.00    298.00     41.00   \n",
       "months_since_last_claim           14.00     23.00     35.00     17.00   \n",
       "months_since_policy_inception     48.00     71.00     99.00     47.00   \n",
       "number_of_open_complaints          0.00      0.00      5.00      0.00   \n",
       "number_of_policies                 2.00      4.00      9.00      3.00   \n",
       "total_claim_amount               383.95    547.51   2893.24    275.26   \n",
       "\n",
       "                                  range  \n",
       "customer_lifetime_value        81427.37  \n",
       "income                         99981.00  \n",
       "monthly_premium_auto             237.00  \n",
       "months_since_last_claim           35.00  \n",
       "months_since_policy_inception     99.00  \n",
       "number_of_open_complaints          5.00  \n",
       "number_of_policies                 8.00  \n",
       "total_claim_amount              2893.14  "
      ]
     },
     "execution_count": 10,
     "metadata": {},
     "output_type": "execute_result"
    }
   ],
   "source": [
    "summary = df.describe().T\n",
    "summary['iqr'] = summary['75%']-summary['25%'] # adds Interquartile Range\n",
    "summary['range'] = summary['max'] - summary['min'] # adds range\n",
    "for col in summary.columns: # rounds all values in summary\n",
    "    summary[col] = summary[col].apply(lambda x : round(x, 2))\n",
    "summary"
   ]
  },
  {
   "cell_type": "code",
   "execution_count": null,
   "id": "098abc21",
   "metadata": {},
   "outputs": [],
   "source": []
  },
  {
   "cell_type": "code",
   "execution_count": 11,
   "id": "6d72260d",
   "metadata": {
    "scrolled": true
   },
   "outputs": [
    {
     "name": "stdout",
     "output_type": "stream",
     "text": [
      "<class 'pandas.core.frame.DataFrame'>\n",
      "RangeIndex: 9134 entries, 0 to 9133\n",
      "Data columns (total 24 columns):\n",
      " #   Column                         Non-Null Count  Dtype         \n",
      "---  ------                         --------------  -----         \n",
      " 0   customer                       9134 non-null   object        \n",
      " 1   state                          9134 non-null   object        \n",
      " 2   customer_lifetime_value        9134 non-null   float64       \n",
      " 3   response                       9134 non-null   object        \n",
      " 4   coverage                       9134 non-null   object        \n",
      " 5   education                      9134 non-null   object        \n",
      " 6   effective_to_date              9134 non-null   datetime64[ns]\n",
      " 7   employmentstatus               9134 non-null   object        \n",
      " 8   gender                         9134 non-null   object        \n",
      " 9   income                         9134 non-null   int64         \n",
      " 10  location_code                  9134 non-null   object        \n",
      " 11  marital_status                 9134 non-null   object        \n",
      " 12  monthly_premium_auto           9134 non-null   int64         \n",
      " 13  months_since_last_claim        9134 non-null   int64         \n",
      " 14  months_since_policy_inception  9134 non-null   int64         \n",
      " 15  number_of_open_complaints      9134 non-null   int64         \n",
      " 16  number_of_policies             9134 non-null   int64         \n",
      " 17  policy_type                    9134 non-null   object        \n",
      " 18  policy                         9134 non-null   object        \n",
      " 19  renew_offer_type               9134 non-null   object        \n",
      " 20  sales_channel                  9134 non-null   object        \n",
      " 21  total_claim_amount             9134 non-null   float64       \n",
      " 22  vehicle_class                  9134 non-null   object        \n",
      " 23  vehicle_size                   9134 non-null   object        \n",
      "dtypes: datetime64[ns](1), float64(2), int64(6), object(15)\n",
      "memory usage: 1.7+ MB\n"
     ]
    }
   ],
   "source": [
    "df.describe(include=['object']).T\n",
    "\n",
    "df.info()"
   ]
  },
  {
   "cell_type": "markdown",
   "id": "aab07cf5",
   "metadata": {},
   "source": [
    "# Show a plot of the total number of responses."
   ]
  },
  {
   "cell_type": "code",
   "execution_count": 12,
   "id": "d8c99798",
   "metadata": {},
   "outputs": [
    {
     "data": {
      "text/plain": [
       "<AxesSubplot:>"
      ]
     },
     "execution_count": 12,
     "metadata": {},
     "output_type": "execute_result"
    },
    {
     "data": {
      "image/png": "[encoded data removed]",
      "text/plain": [
       "<Figure size 432x288 with 1 Axes>"
      ]
     },
     "metadata": {
      "needs_background": "light"
     },
     "output_type": "display_data"
    }
   ],
   "source": [
    "import matplotlib.pyplot as plt\n",
    "%matplotlib inline\n",
    "import matplotlib.pyplot as plt\n",
    "import seaborn as sns \n",
    "\n",
    "df['response'].value_counts().plot(kind='bar')"
   ]
  },
  {
   "cell_type": "markdown",
   "id": "0d46f5ae",
   "metadata": {},
   "source": [
    "# Show a plot of the response rate by the sales channel."
   ]
  },
  {
   "cell_type": "code",
   "execution_count": 13,
   "id": "7783df89",
   "metadata": {},
   "outputs": [],
   "source": [
    "\n",
    "plt.rcParams['figure.figsize'] = (12,8)\n",
    "#\n",
    " \n",
    "#sns.countplot(x = 'class', y = 'fare',\n",
    "#            hue = 'sex',\n",
    " #           data = df,color=\"salmon\")\n",
    "#sns.countplot(x ='sex', data = df,color=\"salmon\", facecolor=(0, 0, 0, 0),\n",
    "#                   linewidth=5,\n",
    "#                   edgecolor=sns.color_palette(\"BrBG\", 2))\n",
    "\n",
    "#sns.countplot('Sales_Channel',hue = 'Response', data = df)\n",
    "#sns.countplot('response', hue='sales_channels',data=data)\n",
    "\n",
    "\n",
    "#df['month']\n",
    "#plt.ylabel('response by Sales channel')\n",
    "\n",
    "df['response_rate'] = np.where(df.response=='Yes', 1, 0)"
   ]
  },
  {
   "cell_type": "code",
   "execution_count": 14,
   "id": "536dcc28",
   "metadata": {},
   "outputs": [
    {
     "data": {
      "text/plain": [
       "<AxesSubplot:xlabel='sales_channel', ylabel='response_rate'>"
      ]
     },
     "execution_count": 14,
     "metadata": {},
     "output_type": "execute_result"
    },
    {
     "data": {
      "image/png": "[encoded data removed]",
      "text/plain": [
       "<Figure size 864x576 with 1 Axes>"
      ]
     },
     "metadata": {
      "needs_background": "light"
     },
     "output_type": "display_data"
    }
   ],
   "source": [
    "sns.barplot(x='sales_channel',y='response_rate',data=df)"
   ]
  },
  {
   "cell_type": "markdown",
   "id": "52f280b9",
   "metadata": {},
   "source": [
    "# To make rate column\n",
    "\n",
    "#### Storing the response_rate in a list"
   ]
  },
  {
   "cell_type": "code",
   "execution_count": 16,
   "id": "8ec8324f",
   "metadata": {},
   "outputs": [],
   "source": [
    "df['response_rate'] = np.where(df.response=='Yes',1,0)"
   ]
  },
  {
   "cell_type": "code",
   "execution_count": 17,
   "id": "1d6abdaa",
   "metadata": {},
   "outputs": [
    {
     "data": {
      "text/plain": [
       "[Text(0.5, 0, 'Response Rate'), Text(0, 0.5, 'Sales Channel')]"
      ]
     },
     "execution_count": 17,
     "metadata": {},
     "output_type": "execute_result"
    },
    {
     "data": {
      "image/png": "[encoded data removed]",
      "text/plain": [
       "<Figure size 864x576 with 1 Axes>"
      ]
     },
     "metadata": {
      "needs_background": "light"
     },
     "output_type": "display_data"
    }
   ],
   "source": [
    "amount = []\n",
    "for val in df['sales_channel'].unique():\n",
    "    amount.append(round(df[(df['sales_channel']==val) & (df['response']=='Yes')].shape[0] / df[df['sales_channel']==val].shape[0],2))      \n",
    "    \n",
    "\n",
    "data = {'Response': df['sales_channel'].unique().tolist(), 'Amount':amount}\n",
    "rr = sns.barplot(x='Response', y=\"Amount\", data=data)\n",
    "rr.set(xlabel=\"Response Rate\", ylabel=\"Sales Channel\") "
   ]
  },
  {
   "cell_type": "code",
   "execution_count": 18,
   "id": "37adf5bf",
   "metadata": {},
   "outputs": [],
   "source": [
    "# same plot but y-axis goes up to 100%\n",
    "# rr = sns.barplot(x='Response', y=\"Amount\", data=data)\n",
    "# rr.set(ylim= (0, 1))  "
   ]
  },
  {
   "cell_type": "markdown",
   "id": "67ec12fc",
   "metadata": {},
   "source": [
    "#### Use a groupby to create the rate"
   ]
  },
  {
   "cell_type": "code",
   "execution_count": 19,
   "id": "a03ed919",
   "metadata": {},
   "outputs": [
    {
     "data": {
      "text/plain": [
       "response\n",
       "No     [[AxesSubplot(0.125,0.725918;0.215278x0.154082...\n",
       "Yes    [[AxesSubplot(0.125,0.725918;0.215278x0.154082...\n",
       "dtype: object"
      ]
     },
     "execution_count": 19,
     "metadata": {},
     "output_type": "execute_result"
    },
    {
     "data": {
      "image/png": "[encoded data removed]",
      "text/plain": [
       "<Figure size 864x576 with 12 Axes>"
      ]
     },
     "metadata": {
      "needs_background": "light"
     },
     "output_type": "display_data"
    },
    {
     "data": {
      "image/png": "[encoded data removed]",
      "text/plain": [
       "<Figure size 864x576 with 12 Axes>"
      ]
     },
     "metadata": {
      "needs_background": "light"
     },
     "output_type": "display_data"
    }
   ],
   "source": [
    "plt.rcParams['figure.figsize'] = (12,8)\n",
    "df.groupby('response').hist()"
   ]
  },
  {
   "cell_type": "code",
   "execution_count": null,
   "id": "c63f0cd1",
   "metadata": {},
   "outputs": [],
   "source": []
  },
  {
   "cell_type": "code",
   "execution_count": 20,
   "id": "ae125e46",
   "metadata": {},
   "outputs": [
    {
     "data": {
      "text/plain": [
       "<AxesSubplot:>"
      ]
     },
     "execution_count": 20,
     "metadata": {},
     "output_type": "execute_result"
    },
    {
     "data": {
      "image/png": "[encoded data removed]",
      "text/plain": [
       "<Figure size 864x576 with 1 Axes>"
      ]
     },
     "metadata": {
      "needs_background": "light"
     },
     "output_type": "display_data"
    }
   ],
   "source": [
    "#sns.barplot(x='Sales_Channel',y= 'Response_rate',date= df)\n",
    "plt.rcParams['figure.figsize'] = (12,8)\n",
    "df['response_rate'].value_counts().plot(kind='bar')"
   ]
  },
  {
   "cell_type": "code",
   "execution_count": null,
   "id": "15389063",
   "metadata": {},
   "outputs": [],
   "source": []
  },
  {
   "cell_type": "markdown",
   "id": "1bc5b26e",
   "metadata": {},
   "source": [
    "# Show a plot of the response rate by the total claim amount."
   ]
  },
  {
   "cell_type": "code",
   "execution_count": 21,
   "id": "27328f46",
   "metadata": {},
   "outputs": [
    {
     "data": {
      "text/plain": [
       "count    9134.000000\n",
       "mean      434.088794\n",
       "std       290.500092\n",
       "min         0.099007\n",
       "25%       272.258244\n",
       "50%       383.945434\n",
       "75%       547.514839\n",
       "max      2893.239678\n",
       "Name: total_claim_amount, dtype: float64"
      ]
     },
     "execution_count": 21,
     "metadata": {},
     "output_type": "execute_result"
    }
   ],
   "source": [
    "df['total_claim_amount'].describe()"
   ]
  },
  {
   "cell_type": "code",
   "execution_count": 22,
   "id": "fb39ad5c",
   "metadata": {},
   "outputs": [],
   "source": [
    "#plt.rcParams['figure.figsize'] = (12,8)\n",
    "#plothist.count('Response_rate',hue = 'Total_Claim_Amount', data = df)"
   ]
  },
  {
   "cell_type": "markdown",
   "id": "4ef3ab59",
   "metadata": {},
   "source": [
    "# Show a plot of the response rate by income."
   ]
  },
  {
   "cell_type": "code",
   "execution_count": 23,
   "id": "4edf5f2e",
   "metadata": {},
   "outputs": [],
   "source": [
    "#data2[income_bins]= ()"
   ]
  },
  {
   "cell_type": "code",
   "execution_count": 24,
   "id": "bb0a3be0",
   "metadata": {},
   "outputs": [],
   "source": [
    "#countplot.bar('Income', 'Response_rate',data=df)"
   ]
  },
  {
   "cell_type": "code",
   "execution_count": 25,
   "id": "a35c5146",
   "metadata": {},
   "outputs": [],
   "source": [
    "step = 200\n",
    "amount = []\n",
    "tca_steps = []\n",
    "for val in range(0, df['total_claim_amount'].astype(int).max()+step, step):\n",
    "    tca_steps.append(str(val) + '-' + str(val+step))\n",
    "    if (df[(df['total_claim_amount']>=val) &(df['total_claim_amount']<val+step) &  (df['response']=='Yes')].shape[0]) == 0:\n",
    "        amount.append(0)\n",
    "    else:\n",
    "        amount.append((df[(df['total_claim_amount']>=val) &(df['total_claim_amount']<val+step) &  (df['response']=='Yes')].shape[0])/(df[(df['total_claim_amount']<val+step) & (df['total_claim_amount'] >=val) ].shape[0]))                  \n",
    "        "
   ]
  },
  {
   "cell_type": "code",
   "execution_count": 26,
   "id": "4f8685e9",
   "metadata": {},
   "outputs": [
    {
     "data": {
      "text/plain": [
       "[Text(0.5, 0, 'Total Claim Amount'), Text(0, 0.5, 'Response Rate')]"
      ]
     },
     "execution_count": 26,
     "metadata": {},
     "output_type": "execute_result"
    },
    {
     "data": {
      "image/png": "[encoded data removed]",
      "text/plain": [
       "<Figure size 1296x432 with 1 Axes>"
      ]
     },
     "metadata": {
      "needs_background": "light"
     },
     "output_type": "display_data"
    }
   ],
   "source": [
    "data = {'Response': tca_steps, 'Amount':amount}\n",
    "plt.figure(figsize=(18,6))\n",
    "rr = sns.barplot(x='Response', y=\"Amount\", data=data)\n",
    "rr.set(xlabel=\"Total Claim Amount\", ylabel=\"Response Rate\")"
   ]
  },
  {
   "cell_type": "code",
   "execution_count": 27,
   "id": "f1502a73",
   "metadata": {},
   "outputs": [],
   "source": [
    "#function to create bins"
   ]
  },
  {
   "cell_type": "markdown",
   "id": "8da9fe56",
   "metadata": {},
   "source": [
    "## Show a plot of the response rate by income."
   ]
  },
  {
   "cell_type": "code",
   "execution_count": 28,
   "id": "52e662eb",
   "metadata": {},
   "outputs": [
    {
     "data": {
      "text/plain": [
       "count     9134.000000\n",
       "mean     37657.380009\n",
       "std      30379.904734\n",
       "min          0.000000\n",
       "25%          0.000000\n",
       "50%      33889.500000\n",
       "75%      62320.000000\n",
       "max      99981.000000\n",
       "Name: income, dtype: float64"
      ]
     },
     "execution_count": 28,
     "metadata": {},
     "output_type": "execute_result"
    }
   ],
   "source": [
    "df['income'].describe()"
   ]
  },
  {
   "cell_type": "code",
   "execution_count": 29,
   "id": "de636dbe",
   "metadata": {},
   "outputs": [],
   "source": [
    "step = 15000\n",
    "amount = []\n",
    "tca_steps = []\n",
    "for value in range(0, df['income'].astype(int).max()+step, step):\n",
    "    tca_steps.append(str(value) + '-' + str(value+step))\n",
    "    if (df[(df['income']>=value) &(df['income']<value+step) &  (df['response']=='Yes')].shape[0]) == 0:\n",
    "        amount.append(0)\n",
    "    else:\n",
    "        amount.append(df[(df['income']<value+step) & (df['income'] >=value) ].shape[0] / (df[(df['income']>=value) &(df['income']<value+step) &  (df['response']=='Yes')].shape[0]))"
   ]
  },
  {
   "cell_type": "code",
   "execution_count": 30,
   "id": "a6f2cbf8",
   "metadata": {},
   "outputs": [
    {
     "data": {
      "text/plain": [
       "[Text(0.5, 0, 'Income'), Text(0, 0.5, 'Response Rate')]"
      ]
     },
     "execution_count": 30,
     "metadata": {},
     "output_type": "execute_result"
    },
    {
     "data": {
      "image/png": "[encoded data removed]",
      "text/plain": [
       "<Figure size 864x432 with 1 Axes>"
      ]
     },
     "metadata": {
      "needs_background": "light"
     },
     "output_type": "display_data"
    }
   ],
   "source": [
    "data = {'Response': tca_steps, 'Amount':amount}\n",
    "plt.figure(figsize=(12,6))\n",
    "rr = sns.barplot(x='Response', y=\"Amount\", data=data)\n",
    "rr.set(xlabel=\"Income\", ylabel=\"Response Rate\")"
   ]
  },
  {
   "cell_type": "code",
   "execution_count": null,
   "id": "742cd996",
   "metadata": {},
   "outputs": [],
   "source": []
  },
  {
   "cell_type": "markdown",
   "id": "8490390b",
   "metadata": {},
   "source": [
    "## Check the data types of the columns. \n",
    "\n",
    "##### Get the numeric data into dataframe called numerical and categorical columns in a dataframe called categoricals. (You can use np.number and np.object to select the numerical data types and categorical data types respectively)"
   ]
  },
  {
   "cell_type": "markdown",
   "id": "2ca42f17",
   "metadata": {},
   "source": [
    "### First get the numeric data into dataframe called numerical columns "
   ]
  },
  {
   "cell_type": "code",
   "execution_count": 33,
   "id": "9a3e697b",
   "metadata": {},
   "outputs": [
    {
     "data": {
      "text/plain": [
       "Index(['Customer Lifetime Value', 'Income', 'Monthly Premium Auto',\n",
       "       'Months Since Last Claim', 'Months Since Policy Inception',\n",
       "       'Number of Open Complaints', 'Number of Policies',\n",
       "       'Total Claim Amount'],\n",
       "      dtype='object')"
      ]
     },
     "execution_count": 33,
     "metadata": {},
     "output_type": "execute_result"
    }
   ],
   "source": [
    "import pandas as pd\n",
    "import numpy as np\n",
    "import matplotlib.pyplot as plt\n",
    "import seaborn as sns \n",
    "\n",
    "\n",
    "\n",
    "cus_anlys_r4 = pd.read_csv('./csv_files/marketing_customer_analysis.csv')\n",
    "\n",
    "cus_anlys_r4_numeric = cus_anlys_r4._get_numeric_data()\n",
    "\n",
    "cus_anlys_r4_numeric.columns\n",
    "\n",
    "\n",
    "#cus_anlys_r4_numeric.drop_duplicates()"
   ]
  },
  {
   "cell_type": "code",
   "execution_count": 34,
   "id": "3f65e8f8",
   "metadata": {
    "scrolled": true
   },
   "outputs": [
    {
     "data": {
      "text/plain": [
       "(9134, 8)"
      ]
     },
     "execution_count": 34,
     "metadata": {},
     "output_type": "execute_result"
    }
   ],
   "source": [
    "cus_anlys_r4_numeric.shape"
   ]
  },
  {
   "cell_type": "code",
   "execution_count": 35,
   "id": "76fcdc9f",
   "metadata": {},
   "outputs": [
    {
     "data": {
      "text/html": [
       "<div>\n",
       "<style scoped>\n",
       "    .dataframe tbody tr th:only-of-type {\n",
       "        vertical-align: middle;\n",
       "    }\n",
       "\n",
       "    .dataframe tbody tr th {\n",
       "        vertical-align: top;\n",
       "    }\n",
       "\n",
       "    .dataframe thead th {\n",
       "        text-align: right;\n",
       "    }\n",
       "</style>\n",
       "<table border=\"1\" class=\"dataframe\">\n",
       "  <thead>\n",
       "    <tr style=\"text-align: right;\">\n",
       "      <th></th>\n",
       "      <th>Customer Lifetime Value</th>\n",
       "      <th>Income</th>\n",
       "      <th>Monthly Premium Auto</th>\n",
       "      <th>Months Since Last Claim</th>\n",
       "      <th>Months Since Policy Inception</th>\n",
       "      <th>Number of Open Complaints</th>\n",
       "      <th>Number of Policies</th>\n",
       "      <th>Total Claim Amount</th>\n",
       "    </tr>\n",
       "  </thead>\n",
       "  <tbody>\n",
       "    <tr>\n",
       "      <th>0</th>\n",
       "      <td>2763.519279</td>\n",
       "      <td>56274</td>\n",
       "      <td>69</td>\n",
       "      <td>32</td>\n",
       "      <td>5</td>\n",
       "      <td>0</td>\n",
       "      <td>1</td>\n",
       "      <td>384.811147</td>\n",
       "    </tr>\n",
       "    <tr>\n",
       "      <th>1</th>\n",
       "      <td>6979.535903</td>\n",
       "      <td>0</td>\n",
       "      <td>94</td>\n",
       "      <td>13</td>\n",
       "      <td>42</td>\n",
       "      <td>0</td>\n",
       "      <td>8</td>\n",
       "      <td>1131.464935</td>\n",
       "    </tr>\n",
       "    <tr>\n",
       "      <th>2</th>\n",
       "      <td>12887.431650</td>\n",
       "      <td>48767</td>\n",
       "      <td>108</td>\n",
       "      <td>18</td>\n",
       "      <td>38</td>\n",
       "      <td>0</td>\n",
       "      <td>2</td>\n",
       "      <td>566.472247</td>\n",
       "    </tr>\n",
       "    <tr>\n",
       "      <th>3</th>\n",
       "      <td>7645.861827</td>\n",
       "      <td>0</td>\n",
       "      <td>106</td>\n",
       "      <td>18</td>\n",
       "      <td>65</td>\n",
       "      <td>0</td>\n",
       "      <td>7</td>\n",
       "      <td>529.881344</td>\n",
       "    </tr>\n",
       "    <tr>\n",
       "      <th>4</th>\n",
       "      <td>2813.692575</td>\n",
       "      <td>43836</td>\n",
       "      <td>73</td>\n",
       "      <td>12</td>\n",
       "      <td>44</td>\n",
       "      <td>0</td>\n",
       "      <td>1</td>\n",
       "      <td>138.130879</td>\n",
       "    </tr>\n",
       "    <tr>\n",
       "      <th>...</th>\n",
       "      <td>...</td>\n",
       "      <td>...</td>\n",
       "      <td>...</td>\n",
       "      <td>...</td>\n",
       "      <td>...</td>\n",
       "      <td>...</td>\n",
       "      <td>...</td>\n",
       "      <td>...</td>\n",
       "    </tr>\n",
       "    <tr>\n",
       "      <th>9128</th>\n",
       "      <td>4100.398533</td>\n",
       "      <td>47761</td>\n",
       "      <td>104</td>\n",
       "      <td>16</td>\n",
       "      <td>58</td>\n",
       "      <td>0</td>\n",
       "      <td>1</td>\n",
       "      <td>541.282007</td>\n",
       "    </tr>\n",
       "    <tr>\n",
       "      <th>9129</th>\n",
       "      <td>23405.987980</td>\n",
       "      <td>71941</td>\n",
       "      <td>73</td>\n",
       "      <td>18</td>\n",
       "      <td>89</td>\n",
       "      <td>0</td>\n",
       "      <td>2</td>\n",
       "      <td>198.234764</td>\n",
       "    </tr>\n",
       "    <tr>\n",
       "      <th>9131</th>\n",
       "      <td>8163.890428</td>\n",
       "      <td>0</td>\n",
       "      <td>85</td>\n",
       "      <td>9</td>\n",
       "      <td>37</td>\n",
       "      <td>3</td>\n",
       "      <td>2</td>\n",
       "      <td>790.784983</td>\n",
       "    </tr>\n",
       "    <tr>\n",
       "      <th>9132</th>\n",
       "      <td>7524.442436</td>\n",
       "      <td>21941</td>\n",
       "      <td>96</td>\n",
       "      <td>34</td>\n",
       "      <td>3</td>\n",
       "      <td>0</td>\n",
       "      <td>3</td>\n",
       "      <td>691.200000</td>\n",
       "    </tr>\n",
       "    <tr>\n",
       "      <th>9133</th>\n",
       "      <td>2611.836866</td>\n",
       "      <td>0</td>\n",
       "      <td>77</td>\n",
       "      <td>3</td>\n",
       "      <td>90</td>\n",
       "      <td>0</td>\n",
       "      <td>1</td>\n",
       "      <td>369.600000</td>\n",
       "    </tr>\n",
       "  </tbody>\n",
       "</table>\n",
       "<p>8044 rows × 8 columns</p>\n",
       "</div>"
      ],
      "text/plain": [
       "      Customer Lifetime Value  Income  Monthly Premium Auto  \\\n",
       "0                 2763.519279   56274                    69   \n",
       "1                 6979.535903       0                    94   \n",
       "2                12887.431650   48767                   108   \n",
       "3                 7645.861827       0                   106   \n",
       "4                 2813.692575   43836                    73   \n",
       "...                       ...     ...                   ...   \n",
       "9128              4100.398533   47761                   104   \n",
       "9129             23405.987980   71941                    73   \n",
       "9131              8163.890428       0                    85   \n",
       "9132              7524.442436   21941                    96   \n",
       "9133              2611.836866       0                    77   \n",
       "\n",
       "      Months Since Last Claim  Months Since Policy Inception  \\\n",
       "0                          32                              5   \n",
       "1                          13                             42   \n",
       "2                          18                             38   \n",
       "3                          18                             65   \n",
       "4                          12                             44   \n",
       "...                       ...                            ...   \n",
       "9128                       16                             58   \n",
       "9129                       18                             89   \n",
       "9131                        9                             37   \n",
       "9132                       34                              3   \n",
       "9133                        3                             90   \n",
       "\n",
       "      Number of Open Complaints  Number of Policies  Total Claim Amount  \n",
       "0                             0                   1          384.811147  \n",
       "1                             0                   8         1131.464935  \n",
       "2                             0                   2          566.472247  \n",
       "3                             0                   7          529.881344  \n",
       "4                             0                   1          138.130879  \n",
       "...                         ...                 ...                 ...  \n",
       "9128                          0                   1          541.282007  \n",
       "9129                          0                   2          198.234764  \n",
       "9131                          3                   2          790.784983  \n",
       "9132                          0                   3          691.200000  \n",
       "9133                          0                   1          369.600000  \n",
       "\n",
       "[8044 rows x 8 columns]"
      ]
     },
     "execution_count": 35,
     "metadata": {},
     "output_type": "execute_result"
    }
   ],
   "source": [
    "cus_anlys_r4_numeric.drop_duplicates()\n"
   ]
  },
  {
   "cell_type": "code",
   "execution_count": 37,
   "id": "13c71d86",
   "metadata": {},
   "outputs": [],
   "source": [
    "cus_anlys_r4_numeric_WOD = cus_anlys_r4_numeric.drop_duplicates()\n",
    "# WOD --> with out duplicates"
   ]
  },
  {
   "cell_type": "code",
   "execution_count": 38,
   "id": "19a06a31",
   "metadata": {
    "scrolled": true
   },
   "outputs": [
    {
     "data": {
      "text/plain": [
       "(8044, 8)"
      ]
     },
     "execution_count": 38,
     "metadata": {},
     "output_type": "execute_result"
    }
   ],
   "source": [
    "cus_anlys_r4_numeric_WOD.shape"
   ]
  },
  {
   "cell_type": "markdown",
   "id": "0b4f8f8d",
   "metadata": {},
   "source": [
    "#### First get the 'categorical' data into dataframe called 'categoricals'"
   ]
  },
  {
   "cell_type": "code",
   "execution_count": 39,
   "id": "79a3985e",
   "metadata": {},
   "outputs": [
    {
     "data": {
      "text/plain": [
       "Index(['Customer', 'State', 'Response', 'Coverage', 'Education',\n",
       "       'Effective To Date', 'EmploymentStatus', 'Gender', 'Location Code',\n",
       "       'Marital Status', 'Policy Type', 'Policy', 'Renew Offer Type',\n",
       "       'Sales Channel', 'Vehicle Class', 'Vehicle Size'],\n",
       "      dtype='object')"
      ]
     },
     "execution_count": 39,
     "metadata": {},
     "output_type": "execute_result"
    }
   ],
   "source": [
    "cus_anlys_r4.select_dtypes(include='object').columns"
   ]
  },
  {
   "cell_type": "code",
   "execution_count": 40,
   "id": "6c7c7868",
   "metadata": {},
   "outputs": [
    {
     "data": {
      "text/plain": [
       "0        No\n",
       "1        No\n",
       "2        No\n",
       "3        No\n",
       "4        No\n",
       "       ... \n",
       "9129     No\n",
       "9130    Yes\n",
       "9131     No\n",
       "9132     No\n",
       "9133     No\n",
       "Name: Response, Length: 9134, dtype: object"
      ]
     },
     "execution_count": 40,
     "metadata": {},
     "output_type": "execute_result"
    }
   ],
   "source": [
    "cus_anlys_r4.Response[:]\n",
    "#cus_anlys_r4.Gender[:]"
   ]
  },
  {
   "cell_type": "code",
   "execution_count": 41,
   "id": "f4bc4cd3",
   "metadata": {},
   "outputs": [
    {
     "data": {
      "text/plain": [
       "0       F\n",
       "1       F\n",
       "2       F\n",
       "3       M\n",
       "4       M\n",
       "       ..\n",
       "9129    M\n",
       "9130    F\n",
       "9131    M\n",
       "9132    M\n",
       "9133    M\n",
       "Name: Gender, Length: 9134, dtype: object"
      ]
     },
     "execution_count": 41,
     "metadata": {},
     "output_type": "execute_result"
    }
   ],
   "source": [
    "cus_anlys_r4.Gender[:]"
   ]
  },
  {
   "cell_type": "code",
   "execution_count": 42,
   "id": "61d1efd3",
   "metadata": {},
   "outputs": [],
   "source": [
    "#fill NA\n",
    "def fillna(table, col, method):\n",
    "    if method == 'mean':\n",
    "        table[col].fillna(np.mean(table[col]), inplace=True)\n",
    "    elif method== 'med':\n",
    "        table[col].fillna(np.median(table[col]), inplace=True)\n",
    "    elif method == 'mod':\n",
    "        table[col].fillna(stats.mode(table[col]), inplace=True)    \n",
    "    else:\n",
    "        print('Method not defined')\n",
    "        \n",
    "#change Type to Datetime\n",
    "def col_to_datetime(table, col):\n",
    "    table[col] = pd.to_datetime(table[col], errors='coerce')\n",
    "    \n",
    "#Clean Table\n",
    "def clean_table(table):  \n",
    "    table.drop(['Unnamed: 0'], axis=1, inplace=True)\n",
    "    table.columns= table.columns.str.lower().str.replace(' ', '_')\n",
    "    col_to_datetime(table, 'effective_to_date')\n",
    "    fillna(table, 'state', 'mod')\n",
    "    fillna(table, 'response', 'mod')\n",
    "    fillna(table, 'vehicle_class', 'mod')\n",
    "    fillna(table, 'vehicle_size', 'mod')\n",
    "    fillna(table, 'months_since_last_claim', 'mean')\n",
    "    fillna(table, 'number_of_open_complaints', 'mean')\n",
    "    table['vehicle_type'].fillna('Unknown', inplace=True)\n"
   ]
  },
  {
   "cell_type": "code",
   "execution_count": 43,
   "id": "bf5c21ac",
   "metadata": {
    "scrolled": true
   },
   "outputs": [
    {
     "data": {
      "text/plain": [
       "customer                         0\n",
       "state                            0\n",
       "customer_lifetime_value          0\n",
       "response                         0\n",
       "coverage                         0\n",
       "education                        0\n",
       "effective_to_date                0\n",
       "employmentstatus                 0\n",
       "gender                           0\n",
       "income                           0\n",
       "location_code                    0\n",
       "marital_status                   0\n",
       "monthly_premium_auto             0\n",
       "months_since_last_claim          0\n",
       "months_since_policy_inception    0\n",
       "number_of_open_complaints        0\n",
       "number_of_policies               0\n",
       "policy_type                      0\n",
       "policy                           0\n",
       "renew_offer_type                 0\n",
       "sales_channel                    0\n",
       "total_claim_amount               0\n",
       "vehicle_class                    0\n",
       "vehicle_size                     0\n",
       "dtype: int64"
      ]
     },
     "execution_count": 43,
     "metadata": {},
     "output_type": "execute_result"
    }
   ],
   "source": [
    "cus_anlys_r4 = pd.read_csv('./csv_files/marketing_customer_analysis.csv')\n",
    "clean_table(cus_anlys_r4)\n",
    "cus_anlys_r4.isna().sum()"
   ]
  },
  {
   "cell_type": "code",
   "execution_count": 44,
   "id": "43124cb2",
   "metadata": {},
   "outputs": [],
   "source": [
    "categoricals = df.select_dtypes(object)"
   ]
  },
  {
   "cell_type": "markdown",
   "id": "6061e3ff",
   "metadata": {},
   "source": [
    "#### Now we will try to check the normality of the numerical variables visually"
   ]
  },
  {
   "cell_type": "code",
   "execution_count": 46,
   "id": "44d8cb33",
   "metadata": {},
   "outputs": [
    {
     "data": {
      "text/plain": [
       "Index(['customer_lifetime_value', 'income', 'monthly_premium_auto',\n",
       "       'months_since_last_claim', 'months_since_policy_inception',\n",
       "       'number_of_open_complaints', 'number_of_policies', 'total_claim_amount',\n",
       "       'response_rate'],\n",
       "      dtype='object')"
      ]
     },
     "execution_count": 46,
     "metadata": {},
     "output_type": "execute_result"
    }
   ],
   "source": [
    "numerical = df._get_numeric_data()\n",
    "numerical.columns"
   ]
  },
  {
   "cell_type": "markdown",
   "id": "a7abdadd",
   "metadata": {},
   "source": [
    "### Use seaborn library to construct distribution plots for the numerical variables"
   ]
  },
  {
   "cell_type": "code",
   "execution_count": 47,
   "id": "1bf345ce",
   "metadata": {},
   "outputs": [
    {
     "data": {
      "image/png": "[encoded data removed]",
      "text/plain": [
       "<Figure size 360x360 with 1 Axes>"
      ]
     },
     "metadata": {
      "needs_background": "light"
     },
     "output_type": "display_data"
    },
    {
     "data": {
      "image/png": "[encoded data removed]",
      "text/plain": [
       "<Figure size 360x360 with 1 Axes>"
      ]
     },
     "metadata": {
      "needs_background": "light"
     },
     "output_type": "display_data"
    },
    {
     "data": {
      "image/png": "[encoded data removed]",
      "text/plain": [
       "<Figure size 360x360 with 1 Axes>"
      ]
     },
     "metadata": {
      "needs_background": "light"
     },
     "output_type": "display_data"
    },
    {
     "data": {
      "image/png": "[encoded data removed]",
      "text/plain": [
       "<Figure size 360x360 with 1 Axes>"
      ]
     },
     "metadata": {
      "needs_background": "light"
     },
     "output_type": "display_data"
    },
    {
     "data": {
      "image/png": "[encoded data removed]",
      "text/plain": [
       "<Figure size 360x360 with 1 Axes>"
      ]
     },
     "metadata": {
      "needs_background": "light"
     },
     "output_type": "display_data"
    },
    {
     "data": {
      "image/png": "[encoded data removed]",
      "text/plain": [
       "<Figure size 360x360 with 1 Axes>"
      ]
     },
     "metadata": {
      "needs_background": "light"
     },
     "output_type": "display_data"
    },
    {
     "data": {
      "image/png": "[encoded data removed]",
      "text/plain": [
       "<Figure size 360x360 with 1 Axes>"
      ]
     },
     "metadata": {
      "needs_background": "light"
     },
     "output_type": "display_data"
    },
    {
     "data": {
      "image/png": "[encoded data removed]",
      "text/plain": [
       "<Figure size 360x360 with 1 Axes>"
      ]
     },
     "metadata": {
      "needs_background": "light"
     },
     "output_type": "display_data"
    },
    {
     "data": {
      "image/png": "[encoded data removed]",
      "text/plain": [
       "<Figure size 360x360 with 1 Axes>"
      ]
     },
     "metadata": {
      "needs_background": "light"
     },
     "output_type": "display_data"
    }
   ],
   "source": [
    "for col in numerical:\n",
    "    sns.displot(numerical[col], bins=100)\n",
    "# sns.pairplot(numerical) # takes a long time to load, therefore I deactivated it   "
   ]
  },
  {
   "cell_type": "markdown",
   "id": "7ea3ce57",
   "metadata": {},
   "source": [
    "### Use Matplotlib to construct histograms"
   ]
  },
  {
   "cell_type": "code",
   "execution_count": null,
   "id": "21933a25",
   "metadata": {},
   "outputs": [],
   "source": [
    "from sklearn import linear_model\n",
    "from sklearn.metrics import mean_squared_error, r2_score\n"
   ]
  },
  {
   "cell_type": "code",
   "execution_count": 48,
   "id": "5ed85575",
   "metadata": {},
   "outputs": [
    {
     "data": {
      "image/png": "[encoded data removed]",
      "text/plain": [
       "<Figure size 864x576 with 1 Axes>"
      ]
     },
     "metadata": {
      "needs_background": "light"
     },
     "output_type": "display_data"
    },
    {
     "data": {
      "image/png": "[encoded data removed]",
      "text/plain": [
       "<Figure size 864x576 with 1 Axes>"
      ]
     },
     "metadata": {
      "needs_background": "light"
     },
     "output_type": "display_data"
    },
    {
     "data": {
      "image/png": "[encoded data removed]",
      "text/plain": [
       "<Figure size 864x576 with 1 Axes>"
      ]
     },
     "metadata": {
      "needs_background": "light"
     },
     "output_type": "display_data"
    },
    {
     "data": {
      "image/png": "[encoded data removed]",
      "text/plain": [
       "<Figure size 864x576 with 1 Axes>"
      ]
     },
     "metadata": {
      "needs_background": "light"
     },
     "output_type": "display_data"
    },
    {
     "data": {
      "image/png": "[encoded data removed]",
      "text/plain": [
       "<Figure size 864x576 with 1 Axes>"
      ]
     },
     "metadata": {
      "needs_background": "light"
     },
     "output_type": "display_data"
    },
    {
     "data": {
      "image/png": "[encoded data removed]",
      "text/plain": [
       "<Figure size 864x576 with 1 Axes>"
      ]
     },
     "metadata": {
      "needs_background": "light"
     },
     "output_type": "display_data"
    },
    {
     "data": {
      "image/png": "[encoded data removed]",
      "text/plain": [
       "<Figure size 864x576 with 1 Axes>"
      ]
     },
     "metadata": {
      "needs_background": "light"
     },
     "output_type": "display_data"
    },
    {
     "data": {
      "image/png": "[encoded data removed]",
      "text/plain": [
       "<Figure size 864x576 with 1 Axes>"
      ]
     },
     "metadata": {
      "needs_background": "light"
     },
     "output_type": "display_data"
    },
    {
     "data": {
      "image/png": "[encoded data removed]",
      "text/plain": [
       "<Figure size 864x576 with 1 Axes>"
      ]
     },
     "metadata": {
      "needs_background": "light"
     },
     "output_type": "display_data"
    },
    {
     "name": "stdout",
     "output_type": "stream",
     "text": [
      "CPU times: total: 1.03 s\n",
      "Wall time: 1.02 s\n"
     ]
    }
   ],
   "source": [
    "%%time\n",
    "\n",
    "for col in numerical:\n",
    "    plt.hist(numerical[col])\n",
    "    plt.show()"
   ]
  },
  {
   "cell_type": "markdown",
   "id": "32f12a2d",
   "metadata": {},
   "source": [
    "### Do the distributions for different numerical variables look like a normal distribution"
   ]
  },
  {
   "cell_type": "markdown",
   "id": "a3f15d0a",
   "metadata": {},
   "source": [
    "##### The distributions from different numerical variables doesn't look like a normal distribution."
   ]
  },
  {
   "cell_type": "code",
   "execution_count": null,
   "id": "94106dc1",
   "metadata": {},
   "outputs": [],
   "source": []
  },
  {
   "cell_type": "code",
   "execution_count": null,
   "id": "9e032b72",
   "metadata": {},
   "outputs": [],
   "source": []
  },
  {
   "cell_type": "markdown",
   "id": "09459a92",
   "metadata": {},
   "source": [
    "### For the numerical variables, check the multicollinearity between the features."
   ]
  },
  {
   "cell_type": "markdown",
   "id": "6a8d15b0",
   "metadata": {},
   "source": [
    "#### Note: We will use the column total_claim_amount later as the target variable."
   ]
  },
  {
   "cell_type": "markdown",
   "id": "467dbeb3",
   "metadata": {},
   "source": [
    "###### # Multicollinearity can be detected via various methods. In this, focus is on the most common one – VIF (Variable Inflation Factors)."
   ]
  },
  {
   "cell_type": "code",
   "execution_count": 50,
   "id": "e59b1e7d",
   "metadata": {},
   "outputs": [],
   "source": [
    "from statsmodels.stats.outliers_influence import variance_inflation_factor"
   ]
  },
  {
   "cell_type": "code",
   "execution_count": 57,
   "id": "21c57950",
   "metadata": {},
   "outputs": [],
   "source": [
    "def calc_vif(X):\n",
    "    \n",
    "    # Calculating VIF\n",
    "    vif = pd.DataFrame()\n",
    "    vif[\"variables\"] = X.columns\n",
    "    vif[\"VIF\"] = [variance_inflation_factor(X.values, i) for i in range(X.shape[1])]\n",
    "    \n",
    "    \n",
    "    return(vif)"
   ]
  },
  {
   "cell_type": "code",
   "execution_count": 59,
   "id": "514259b7",
   "metadata": {},
   "outputs": [],
   "source": [
    "# X = cus_anlys_r4.iloc[:,:-1]\n",
    "# calc_vif(X)\n",
    "\n",
    "# X = df.drop(['Age','Salary'],axis=1)\n",
    "# calc_vif(X)\n",
    "\n",
    "# df2 = df.copy()\n",
    "# df2['Age_at_joining'] = df.apply(lambda x: x['Age'] - x['Years of service'],axis=1)\n",
    "# X = df2.drop(['Age','Years of service','Salary'],axis=1)\n",
    "# calc_vif(X)"
   ]
  },
  {
   "cell_type": "markdown",
   "id": "31689f33",
   "metadata": {},
   "source": [
    "## The correlation matrix and for seaborn heatmap."
   ]
  },
  {
   "cell_type": "markdown",
   "id": "93a384ff",
   "metadata": {},
   "source": [
    "##### Drop one of the two features that show a high correlation between them (greater than 0.9). Write code for both the correlation matrix and for seaborn heatmap. If there is no pair of features that have a high correlation, then do not drop any features"
   ]
  },
  {
   "cell_type": "code",
   "execution_count": 60,
   "id": "6266ba31",
   "metadata": {},
   "outputs": [
    {
     "data": {
      "image/png": "[encoded data removed]",
      "text/plain": [
       "<Figure size 864x576 with 2 Axes>"
      ]
     },
     "metadata": {
      "needs_background": "light"
     },
     "output_type": "display_data"
    },
    {
     "name": "stdout",
     "output_type": "stream",
     "text": [
      "CPU times: total: 438 ms\n",
      "Wall time: 434 ms\n"
     ]
    }
   ],
   "source": [
    "%%time\n",
    "correlations_matrix = round(numerical.corr(),2)\n",
    "sns.heatmap(correlations_matrix, annot=True)\n",
    "plt.show()"
   ]
  },
  {
   "cell_type": "code",
   "execution_count": null,
   "id": "255062dc",
   "metadata": {},
   "outputs": [],
   "source": []
  },
  {
   "cell_type": "code",
   "execution_count": null,
   "id": "e52d71a9",
   "metadata": {},
   "outputs": [],
   "source": []
  },
  {
   "cell_type": "code",
   "execution_count": null,
   "id": "e761162d",
   "metadata": {},
   "outputs": [],
   "source": []
  },
  {
   "cell_type": "code",
   "execution_count": null,
   "id": "fd798b95",
   "metadata": {},
   "outputs": [],
   "source": []
  },
  {
   "cell_type": "code",
   "execution_count": null,
   "id": "4f8ea47a",
   "metadata": {},
   "outputs": [],
   "source": []
  },
  {
   "cell_type": "code",
   "execution_count": null,
   "id": "717d5a80",
   "metadata": {},
   "outputs": [],
   "source": []
  },
  {
   "cell_type": "code",
   "execution_count": null,
   "id": "deca67ae",
   "metadata": {},
   "outputs": [],
   "source": []
  },
  {
   "cell_type": "markdown",
   "id": "195200d6",
   "metadata": {},
   "source": [
    "##  Customer Analysis Round 5"
   ]
  },
  {
   "cell_type": "code",
   "execution_count": null,
   "id": "f673e17d",
   "metadata": {},
   "outputs": [],
   "source": [
    "import pandas as pd\n",
    "import numpy as np\n",
    "import matplotlib.pyplot as plt\n",
    "import seaborn as sns\n",
    "%matplotlib inline\n"
   ]
  },
  {
   "cell_type": "code",
   "execution_count": null,
   "id": "d19820c8",
   "metadata": {
    "scrolled": true
   },
   "outputs": [],
   "source": [
    "cus_anlys_r5 = pd.read_csv('marketing_customer_analysis.csv')\n",
    "#data = pd.to_csv('merged_clean_ver1.csv', index=False)\n",
    "\n",
    "#instead of:\n",
    "#data = pd.to_csv('merged_clean_ver1.csv', index=False)\n",
    "\n",
    "#data.to_csv('merged_clean_ver1.csv', index=False)\n",
    "\n",
    "\n",
    "#cus_anlys_r3 = cus_anlys_r3.drop(['Unnamed: 0'],axis=1)\n",
    "cus_anlys_r5.head()"
   ]
  },
  {
   "cell_type": "code",
   "execution_count": null,
   "id": "e0c1acd0",
   "metadata": {
    "scrolled": true
   },
   "outputs": [],
   "source": [
    "cus_anlys_r5.shape\n",
    "\n",
    "df = cus_anlys_r4_numeric_WOD\n",
    "\n",
    "df.T"
   ]
  },
  {
   "cell_type": "code",
   "execution_count": null,
   "id": "c6af06d2",
   "metadata": {
    "scrolled": true
   },
   "outputs": [],
   "source": [
    "df.head()"
   ]
  },
  {
   "cell_type": "code",
   "execution_count": null,
   "id": "44925fcb",
   "metadata": {},
   "outputs": [],
   "source": [
    "# remove spaces in columns name\n",
    "df.columns = df.columns.str.replace(' ','_')\n",
    "\n"
   ]
  },
  {
   "cell_type": "code",
   "execution_count": null,
   "id": "c9ec83dc",
   "metadata": {
    "scrolled": true
   },
   "outputs": [],
   "source": [
    "df.columns\n",
    "print(df.describe())\n",
    "\n"
   ]
  },
  {
   "cell_type": "code",
   "execution_count": null,
   "id": "94bfc7c6",
   "metadata": {},
   "outputs": [],
   "source": [
    "sns.displot(df['Monthly_Premium_Auto'])\n",
    "plt.show()"
   ]
  },
  {
   "cell_type": "code",
   "execution_count": null,
   "id": "df1c1418",
   "metadata": {},
   "outputs": [],
   "source": [
    "# plt.rcParams['figure.figsize'] = (12,8)\n",
    "# df.groupby('Income').hist()"
   ]
  },
  {
   "cell_type": "code",
   "execution_count": null,
   "id": "4eda5448",
   "metadata": {},
   "outputs": [],
   "source": [
    "sns.displot(data['Income'])\n",
    "plt.show()"
   ]
  },
  {
   "cell_type": "code",
   "execution_count": null,
   "id": "8b730c48",
   "metadata": {},
   "outputs": [],
   "source": []
  },
  {
   "cell_type": "code",
   "execution_count": null,
   "id": "cbb7f0f7",
   "metadata": {},
   "outputs": [],
   "source": [
    "# Normalizing and scaling\n",
    "# going back to oiginal data\n",
    "# data = pd.read_csv('regression_data1.csv') \n",
    "# display(data.head())\n",
    "# data.shape"
   ]
  },
  {
   "cell_type": "code",
   "execution_count": null,
   "id": "6d19f00c",
   "metadata": {},
   "outputs": [],
   "source": [
    "sns.scatterplot(x=data['Income'], y=data['Monthly_Premium_Auto'])\n",
    "plt.show()"
   ]
  },
  {
   "cell_type": "code",
   "execution_count": null,
   "id": "75c5c41f",
   "metadata": {},
   "outputs": [],
   "source": [
    "from sklearn.preprocessing import MinMaxScaler # do not use the function Normalise() - it does something entirely different\n",
    "from sklearn.preprocessing import StandardScaler\n",
    "\n",
    "y = df['Monthly_Premium_Auto']\n",
    "X = df.drop(['Monthly_Premium_Auto'], axis=1)\n",
    "X_num = X.select_dtypes(include = np.number)\n",
    "X_cat = X.select_dtypes(include = object)"
   ]
  },
  {
   "cell_type": "code",
   "execution_count": null,
   "id": "6e313f53",
   "metadata": {},
   "outputs": [],
   "source": [
    "# Normalizing data: make data range from 0 - 1, instead of from min to max\n",
    "transformer = MinMaxScaler().fit(X_num)\n",
    "x_normalized = transformer.transform(X_num)\n",
    "print(x_normalized.shape)\n",
    "x_normalized\n",
    "pd.DataFrame(x_normalized, columns=X_num.columns)"
   ]
  },
  {
   "cell_type": "code",
   "execution_count": null,
   "id": "fd65525e",
   "metadata": {},
   "outputs": [],
   "source": [
    "# scaling standard scaler: make data distributed with mean=0 and std=1\n",
    "transformer = StandardScaler().fit(X_num)\n",
    "x_standardized = transformer.transform(X_num)\n",
    "print(x_standardized.shape)\n",
    "pd.DataFrame(x_standardized, columns=X_num.columns)"
   ]
  },
  {
   "cell_type": "code",
   "execution_count": null,
   "id": "351aae92",
   "metadata": {},
   "outputs": [],
   "source": [
    "pd.DataFrame(x_normalized, columns=X_num.columns).corr()"
   ]
  }
 ],
 "metadata": {
  "kernelspec": {
   "display_name": "Python 3 (ipykernel)",
   "language": "python",
   "name": "python3"
  },
  "language_info": {
   "codemirror_mode": {
    "name": "ipython",
    "version": 3
   },
   "file_extension": ".py",
   "mimetype": "text/x-python",
   "name": "python",
   "nbconvert_exporter": "python",
   "pygments_lexer": "ipython3",
   "version": "3.9.12"
  }
 },
 "nbformat": 4,
 "nbformat_minor": 5
}
